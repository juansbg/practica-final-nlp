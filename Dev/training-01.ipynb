{
 "cells": [
  {
   "cell_type": "code",
   "execution_count": 1,
   "id": "820e7888",
   "metadata": {},
   "outputs": [],
   "source": [
    "import numpy as np\n",
    "import pandas as pd\n",
    "import matplotlib.pyplot as plt\n",
    "import seaborn as sns\n",
    "from tqdm import tqdm\n",
    "from gensim.models import Word2Vec\n",
    "from joblib import load, dump\n",
    "\n",
    "from sklearn.model_selection import train_test_split\n",
    "from sklearn.linear_model import LogisticRegression\n",
    "from sklearn.preprocessing import StandardScaler\n",
    "from sklearn.pipeline import Pipeline\n",
    "from imblearn.over_sampling import SMOTE"
   ]
  },
  {
   "cell_type": "code",
   "execution_count": 35,
   "id": "d6a93b00",
   "metadata": {},
   "outputs": [],
   "source": [
    "path_sentiment_data    = \"../Data/PREP/sentiment_full.parquet\"\n",
    "path_merger_data       = \"../Data/MERGERS/mergers.csv\"\n",
    "\n",
    "path_modelo_w2v        = '../Data/MODELS/modelo_word2vec_100.model'\n",
    "path_modelo_clustering = '../Data/MODELS/clustering_pipeline.joblib'\n",
    "path_modelo_logreg     = '../Data/MODELS/merger_logreg.joblib'"
   ]
  },
  {
   "cell_type": "code",
   "execution_count": 3,
   "id": "84c72dce",
   "metadata": {},
   "outputs": [],
   "source": [
    "data = pd.read_parquet(path_sentiment_data)"
   ]
  },
  {
   "cell_type": "code",
   "execution_count": 37,
   "id": "e07b1fde",
   "metadata": {},
   "outputs": [],
   "source": [
    "def refactor_data(data):\n",
    "    return (data\n",
    "            .reset_index()\n",
    "            .rename(columns={'sentences':'phrase', 'page':'n_page', 'sentence':'n_phrase'},)\n",
    "            .set_index(['bank','year', 'n_page', 'n_phrase']))\n",
    "\n",
    "def get_top_positive_phrases(data, count=20):\n",
    "    data = refactor_data(data)\n",
    "    preview = data.sort_values(by='positive', ascending=False).head(count)[['phrase']]\n",
    "    return preview\n",
    "\n",
    "def get_top_negative_phrases(data, count=20):\n",
    "    data = refactor_data(data)\n",
    "    preview = data.sort_values(by='negative', ascending=False).head(count)[['phrase']]\n",
    "    return preview\n",
    "\n",
    "def palabra_en_modelo(palabra,w2v):\n",
    "    try:\n",
    "        w2v.wv.get_vector(palabra)\n",
    "        return True\n",
    "    except:\n",
    "        return False\n",
    "\n",
    "def vectorize_text(texto_vector, w2v, SIZE_VECTORS=100):\n",
    "    # Complete here the code\n",
    "    vectors = [w2v.wv.get_vector(i) for i in texto_vector if palabra_en_modelo(i,w2v)]\n",
    "    return np.mean(vectors, axis=0) if len(vectors) else np.zeros(SIZE_VECTORS)\n",
    "\n",
    "def prepare_dataset(data, path_word2vec, path_clustering, SIZE_VECTORS=100):\n",
    "    import numpy as np\n",
    "    import pandas as pd\n",
    "    from tqdm import tqdm\n",
    "    tqdm.pandas()\n",
    "    data = refactor_data(data)\n",
    "    \n",
    "    word2vec = Word2Vec.load(path_modelo_w2v)\n",
    "    print('Tokenizing...')\n",
    "    data['texto_vector'] = data.phrase.progress_apply(lambda x: [w.lower() for w in x.split(' ') if w])\n",
    "    print('Aplicando Word2Vec...')\n",
    "    vectors = data.texto_vector.progress_apply(lambda x: vectorize_text(x, word2vec, SIZE_VECTORS)).to_numpy()\n",
    "    \n",
    "    dfVectors = pd.DataFrame(np.concatenate(vectors).reshape(vectors.shape[0],SIZE_VECTORS,), index=data.index, \n",
    "                         columns=[f'WV{i}' for i in range(SIZE_VECTORS)])\n",
    "    print('Aplicando Clustering...')\n",
    "    clustering = load(path_modelo_clustering)\n",
    "    clusters = clustering.predict(dfVectors)\n",
    "    data['cluster'] = clusters\n",
    "    data = data.dropna()\n",
    "    print('Preparando Dataset...')\n",
    "    ml_df = data.reset_index().groupby(['bank','year','cluster']).mean()[['positive','negative']].unstack('cluster')\n",
    "    ml_df.columns = [sent[:3]+'_cluster_'+str(cluster)  for sent, cluster in ml_df.columns.values]\n",
    "    ml_df = ml_df.fillna(0.0)\n",
    "    \n",
    "    return ml_df\n",
    "\n",
    "def get_mergers(ml_df, path_merger_data):\n",
    "    df_mergers = pd.read_csv(path_merger_data).dropna()\n",
    "    df_mergers['YEAR'] = df_mergers['YEAR'].astype('int')\n",
    "    df_mergers = df_mergers.set_index('YEAR')\n",
    "    \n",
    "    merger_target = []\n",
    "    for bank, year in ml_df.index:\n",
    "        merger_target.append(int(df_mergers[bank][int(year)]))\n",
    "        \n",
    "    return merger_target\n",
    "\n",
    "def predict_merger(data, \n",
    "                   path_modelo_word2vec,\n",
    "                   path_modelo_clustering,\n",
    "                   path_modelo_merger,\n",
    "                   timeit=True\n",
    "                  ):\n",
    "    import time\n",
    "    from joblib import load\n",
    "    total_time = 0\n",
    "    if timeit: \n",
    "        start = time.time()\n",
    "    X = prepare_dataset(data, path_modelo_word2vec, path_modelo_clustering)\n",
    "    # Load del modelo:\n",
    "    print('Cargando Modelo...')\n",
    "    model = load(path_modelo_merger)\n",
    "    print('Haciendo Predicción...')\n",
    "    merger_pred = model.predict_proba(X)[:,1]\n",
    "    if timeit: \n",
    "        end = time.time()\n",
    "        total_time = end - start\n",
    "        \n",
    "    return merger_pred, total_time"
   ]
  },
  {
   "cell_type": "code",
   "execution_count": 6,
   "id": "8d91c4cc",
   "metadata": {},
   "outputs": [
    {
     "name": "stdout",
     "output_type": "stream",
     "text": [
      "Tokenizing...\n"
     ]
    },
    {
     "name": "stderr",
     "output_type": "stream",
     "text": [
      "100%|██████████████████████████████████████████████████████████████████████████████████████| 1202495/1202495 [00:06<00:00, 174658.02it/s]\n"
     ]
    },
    {
     "name": "stdout",
     "output_type": "stream",
     "text": [
      "Aplicando Word2Vec...\n"
     ]
    },
    {
     "name": "stderr",
     "output_type": "stream",
     "text": [
      "100%|███████████████████████████████████████████████████████████████████████████████████████| 1202495/1202495 [01:03<00:00, 19049.51it/s]\n"
     ]
    }
   ],
   "source": [
    "X = prepare_dataset(data, path_modelo_w2v, path_modelo_clustering)\n",
    "y = get_mergers(X, path_merger_data)"
   ]
  },
  {
   "cell_type": "code",
   "execution_count": 22,
   "id": "f34b41cc",
   "metadata": {},
   "outputs": [],
   "source": [
    "X_train, X_test, y_train, y_test = train_test_split(X, y, test_size=0.3, random_state=40)"
   ]
  },
  {
   "cell_type": "code",
   "execution_count": 23,
   "id": "7df25158",
   "metadata": {},
   "outputs": [],
   "source": [
    "sm = SMOTE(random_state=42)\n",
    "X_train, y_train = sm.fit_resample(X_train, y_train)"
   ]
  },
  {
   "cell_type": "code",
   "execution_count": 24,
   "id": "79ab296f",
   "metadata": {},
   "outputs": [],
   "source": [
    "model = Pipeline(steps=[\n",
    "    ('scaler', StandardScaler()),\n",
    "    ('logreg', LogisticRegression())\n",
    "])"
   ]
  },
  {
   "cell_type": "code",
   "execution_count": 25,
   "id": "2ad4d8af",
   "metadata": {},
   "outputs": [
    {
     "data": {
      "text/plain": [
       "Pipeline(steps=[('scaler', StandardScaler()), ('logreg', LogisticRegression())])"
      ]
     },
     "execution_count": 25,
     "metadata": {},
     "output_type": "execute_result"
    }
   ],
   "source": [
    "model.fit(X_res, y_res)"
   ]
  },
  {
   "cell_type": "markdown",
   "id": "ca4158ab",
   "metadata": {},
   "source": [
    "### Checkpoint del Modelo:"
   ]
  },
  {
   "cell_type": "code",
   "execution_count": 36,
   "id": "54f292c6",
   "metadata": {},
   "outputs": [
    {
     "data": {
      "text/plain": [
       "['../Data/MODELS/merger_logreg.joblib']"
      ]
     },
     "execution_count": 36,
     "metadata": {},
     "output_type": "execute_result"
    }
   ],
   "source": [
    "dump(model, path_modelo_logreg)"
   ]
  },
  {
   "cell_type": "code",
   "execution_count": 26,
   "id": "298877ac",
   "metadata": {},
   "outputs": [
    {
     "data": {
      "text/plain": [
       "array([[-1.06697299, -1.24607649, -1.32978443,  0.16114794, -0.02093655,\n",
       "         0.90065416,  0.62614672,  0.58214956,  0.0985781 , -0.16685029]])"
      ]
     },
     "execution_count": 26,
     "metadata": {},
     "output_type": "execute_result"
    }
   ],
   "source": [
    "model['logreg'].coef_"
   ]
  },
  {
   "cell_type": "code",
   "execution_count": 27,
   "id": "f60cc564",
   "metadata": {},
   "outputs": [],
   "source": [
    "y_pred = model.predict(X_test)\n",
    "\n",
    "y_true = np.array(y_test)"
   ]
  },
  {
   "cell_type": "code",
   "execution_count": 28,
   "id": "3dc0dc8a",
   "metadata": {},
   "outputs": [
    {
     "name": "stdout",
     "output_type": "stream",
     "text": [
      "              precision    recall  f1-score   support\n",
      "\n",
      "           0       0.98      0.77      0.86        64\n",
      "           1       0.12      0.67      0.20         3\n",
      "\n",
      "    accuracy                           0.76        67\n",
      "   macro avg       0.55      0.72      0.53        67\n",
      "weighted avg       0.94      0.76      0.83        67\n",
      "\n"
     ]
    }
   ],
   "source": [
    "from sklearn.metrics import accuracy_score, precision_score, recall_score, f1_score, classification_report\n",
    "\n",
    "print(classification_report(y_true, y_pred))"
   ]
  },
  {
   "cell_type": "code",
   "execution_count": 30,
   "id": "904ea43d",
   "metadata": {},
   "outputs": [
    {
     "data": {
      "image/png": "[encoded data removed]",
      "text/plain": [
       "<Figure size 432x288 with 2 Axes>"
      ]
     },
     "metadata": {
      "needs_background": "light"
     },
     "output_type": "display_data"
    }
   ],
   "source": [
    "ConfusionMatrixDisplay.from_predictions(y_true, y_pred)\n",
    "plt.show()"
   ]
  },
  {
   "cell_type": "code",
   "execution_count": 34,
   "id": "1ffd16fb",
   "metadata": {},
   "outputs": [
    {
     "data": {
      "text/plain": [
       "array([3.11634040e-01, 1.04534016e-01, 4.48056491e-01, 6.68037041e-05,\n",
       "       7.58178362e-03, 4.61671315e-01, 1.60569747e-01, 5.52359465e-02,\n",
       "       2.43180124e-01, 3.76385434e-01, 3.59548395e-01, 4.94334504e-01,\n",
       "       5.22532306e-02, 4.91427632e-02, 2.45756162e-01, 3.62983282e-01,\n",
       "       7.22848689e-01, 3.62875182e-02, 2.65633613e-01, 2.00914626e-01,\n",
       "       4.31149702e-01, 5.26308449e-01, 6.69777738e-01, 8.12551871e-01,\n",
       "       8.11993955e-01, 3.70960201e-01, 9.65162279e-02, 3.74489616e-01,\n",
       "       6.90482250e-01, 4.38431277e-03, 4.64324764e-01, 4.40860221e-01,\n",
       "       5.19068343e-01, 6.07255849e-01, 1.74534798e-01, 2.80727118e-01,\n",
       "       8.49127955e-01, 2.00461560e-01, 1.83052840e-01, 7.79194882e-01,\n",
       "       3.27476898e-01, 3.21098377e-01, 1.65996812e-03, 1.38953531e-01,\n",
       "       2.60299823e-01, 3.76470169e-02, 2.02059923e-01, 1.79043787e-05,\n",
       "       2.39006245e-02, 8.12416945e-01, 3.36972965e-01, 4.18993926e-01,\n",
       "       5.84557023e-01, 4.17816000e-01, 4.78443956e-01, 8.36164858e-02,\n",
       "       5.05720739e-01, 3.20449422e-01, 5.47857476e-01, 2.12063181e-02,\n",
       "       1.43781369e-01, 1.85207284e-01, 8.12714475e-01, 8.52521985e-01,\n",
       "       3.70619324e-01, 3.03855643e-01, 6.45048506e-01])"
      ]
     },
     "execution_count": 34,
     "metadata": {},
     "output_type": "execute_result"
    }
   ],
   "source": [
    "model.predict_proba(X_test)[:,1]"
   ]
  },
  {
   "cell_type": "code",
   "execution_count": 38,
   "id": "24da845b",
   "metadata": {},
   "outputs": [
    {
     "name": "stdout",
     "output_type": "stream",
     "text": [
      "Tokenizing...\n"
     ]
    },
    {
     "name": "stderr",
     "output_type": "stream",
     "text": [
      "100%|██████████████████████████████████████████████████████████████████████████████████████| 1202495/1202495 [00:07<00:00, 171226.81it/s]\n"
     ]
    },
    {
     "name": "stdout",
     "output_type": "stream",
     "text": [
      "Aplicando Word2Vec...\n"
     ]
    },
    {
     "name": "stderr",
     "output_type": "stream",
     "text": [
      "100%|███████████████████████████████████████████████████████████████████████████████████████| 1202495/1202495 [01:03<00:00, 18881.36it/s]\n"
     ]
    },
    {
     "name": "stdout",
     "output_type": "stream",
     "text": [
      "Aplicando Clustering...\n",
      "Preparando Dataset...\n",
      "Cargando Modelo...\n",
      "Haciendo Predicción...\n"
     ]
    }
   ],
   "source": [
    "res, time = predict_merger(data, \n",
    "               path_modelo_w2v,\n",
    "               path_modelo_clustering,\n",
    "               path_modelo_logreg,\n",
    "               timeit=True\n",
    "              )"
   ]
  },
  {
   "cell_type": "code",
   "execution_count": null,
   "id": "61ab558a",
   "metadata": {},
   "outputs": [],
   "source": []
  }
 ],
 "metadata": {
  "kernelspec": {
   "display_name": "Python 3 (ipykernel)",
   "language": "python",
   "name": "python3"
  },
  "language_info": {
   "codemirror_mode": {
    "name": "ipython",
    "version": 3
   },
   "file_extension": ".py",
   "mimetype": "text/x-python",
   "name": "python",
   "nbconvert_exporter": "python",
   "pygments_lexer": "ipython3",
   "version": "3.8.12"
  }
 },
 "nbformat": 4,
 "nbformat_minor": 5
}
