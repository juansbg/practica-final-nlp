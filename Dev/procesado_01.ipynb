{
 "cells": [
  {
   "cell_type": "code",
   "execution_count": 1,
   "id": "1bd34aeb",
   "metadata": {},
   "outputs": [],
   "source": [
    "import numpy as np\n",
    "import pandas as pd\n",
    "import PyPDF2\n",
    "import torch\n",
    "import time\n",
    "from tqdm import tqdm"
   ]
  },
  {
   "cell_type": "code",
   "execution_count": 2,
   "id": "d9cc3945",
   "metadata": {},
   "outputs": [],
   "source": [
    "tqdm.pandas()"
   ]
  },
  {
   "cell_type": "markdown",
   "id": "077790c7",
   "metadata": {},
   "source": [
    "# Paths"
   ]
  },
  {
   "cell_type": "code",
   "execution_count": 3,
   "id": "2bd22472",
   "metadata": {},
   "outputs": [],
   "source": [
    "datos = '../Data/RAW/'\n",
    "raw_pages  = '../Data/PREP/raw_pages.parquet'\n",
    "raw_scentences = '../Data/PREP/sentences.parquet'\n",
    "data_sentiment = '../Data/PREP/sentiment.parquet'"
   ]
  },
  {
   "cell_type": "markdown",
   "id": "409d2398",
   "metadata": {},
   "source": [
    "# Datos en crudo"
   ]
  },
  {
   "cell_type": "code",
   "execution_count": 4,
   "id": "1a0289a3",
   "metadata": {},
   "outputs": [],
   "source": [
    "import os"
   ]
  },
  {
   "cell_type": "code",
   "execution_count": 5,
   "id": "b7e34ae6",
   "metadata": {},
   "outputs": [
    {
     "name": "stdout",
     "output_type": "stream",
     "text": [
      "22\n"
     ]
    }
   ],
   "source": [
    "bancos = os.listdir(datos)\n",
    "print(len(bancos))"
   ]
  },
  {
   "cell_type": "code",
   "execution_count": 6,
   "id": "f241f04d",
   "metadata": {},
   "outputs": [],
   "source": [
    "pdf_paths = []\n",
    "\n",
    "for b in bancos:\n",
    "    pdfs = []\n",
    "    if b != '.DS_Store':\n",
    "        pdfs = os.listdir(datos+b)\n",
    "        \n",
    "    for pdf in pdfs:\n",
    "        pdf_paths.append(datos+b+'/'+pdf)"
   ]
  },
  {
   "cell_type": "code",
   "execution_count": 7,
   "id": "2bf58205",
   "metadata": {},
   "outputs": [
    {
     "data": {
      "text/plain": [
       "['../Data/RAW/ABANCA/ABANCA_2021.pdf',\n",
       " '../Data/RAW/ABANCA/ABANCA_2016.pdf',\n",
       " '../Data/RAW/ABANCA/ABANCA_2017.pdf',\n",
       " '../Data/RAW/ABANCA/ABANCA_2015.pdf',\n",
       " '../Data/RAW/ABANCA/ABANCA_2014.pdf']"
      ]
     },
     "execution_count": 7,
     "metadata": {},
     "output_type": "execute_result"
    }
   ],
   "source": [
    "pdf_paths[-5:]"
   ]
  },
  {
   "cell_type": "code",
   "execution_count": 8,
   "id": "8a2286f6",
   "metadata": {},
   "outputs": [
    {
     "name": "stdout",
     "output_type": "stream",
     "text": [
      "201\n"
     ]
    }
   ],
   "source": [
    "print(len(pdf_paths))"
   ]
  },
  {
   "cell_type": "markdown",
   "id": "1f92b72d",
   "metadata": {},
   "source": [
    "## Proceso de lectura"
   ]
  },
  {
   "cell_type": "code",
   "execution_count": 11,
   "id": "b71a1161",
   "metadata": {
    "scrolled": true
   },
   "outputs": [
    {
     "name": "stdout",
     "output_type": "stream",
     "text": [
      "\n",
      "Annual+Report+2009.pdf\n",
      "Page 436/436\n",
      "Annual+Report+2008.pdf\n",
      "Page 1/404\r"
     ]
    },
    {
     "name": "stderr",
     "output_type": "stream",
     "text": [
      "PdfReadWarning: Xref table not zero-indexed. ID numbers for objects will be corrected. [pdf.py:1736]\n"
     ]
    },
    {
     "name": "stdout",
     "output_type": "stream",
     "text": [
      "Page 404/404\n",
      "Annual+Report+2018.pdf\n",
      "Page 448/448\n",
      "Annual+Report+2014.pdf\n",
      "Page 610/610\n",
      "Annual+Report+2012.pdf\n",
      "Page 532/532\n",
      "Annual+Report+2007.pdf\n",
      "Page 373/373\n",
      "Annual+Report+2013.pdf\n",
      "Page 572/572\n",
      "Annual+Report+2011.pdf\n",
      "Page 528/528\n",
      "Annual+Report+2010.pdf\n",
      "Page 492/492\n",
      "Roczny_2009.pdf\n",
      "Page 120/120\n",
      "Roczny_2008.pdf\n",
      "Page 112/112\n",
      "Roczny_2012.pdf\n",
      "Page 116/116\n",
      "Roczny_2013.pdf\n",
      "Page 115/115\n",
      "Roczny_2011.pdf\n",
      "Page 115/115\n",
      "Roczny_2010.pdf\n",
      "Page 106/106\n",
      "Roczny_2014.pdf\n",
      "Page 129/129\n",
      "Roczny_2015.pdf\n",
      "Page 121/121\n",
      "Roczny_2016.pdf\n",
      "Page 134/134\n",
      "WGZ_BANK_Annual-report-2015.pdf\n",
      "Page 281/281\n",
      "WGZ_BANK_Annual-report-2014.pdf\n",
      "Page 269/269\n",
      "WGZ_BANK_Annual-report-2013.pdf\n",
      "Page 261/261\n",
      "INTESA_1999.pdf\n",
      "Page 154/154\n",
      "INTESA_2001.pdf\n",
      "Page 249/249\n",
      "INTESA_2000.pdf\n",
      "Page 132/132\n",
      "INTESA_2002.pdf\n",
      "Page 242/242\n",
      "INTESA_2003.pdf\n",
      "Page 244/244\n",
      "INTESA_2006.pdf\n",
      "Page 489/489\n",
      "INTESA_2004.pdf\n",
      "Page 249/249\n",
      "INTESA_2005.pdf\n",
      "Page 323/323\n",
      "SANPAOLO_2006.pdf\n",
      "Page 474/474\n",
      "SANPAOLO_2005.pdf\n",
      "Page 588/588\n",
      "SANPAOLO_2004.pdf\n",
      "Page 478/478\n",
      "SANPAOLO_2000.pdf\n",
      "Page 349/349\n",
      "SANPAOLO_2001.pdf\n",
      "Page 383/383\n",
      "SANPAOLO_2003.pdf\n",
      "Page 471/471\n",
      "SANPAOLO_2002.pdf\n",
      "Page 443/443\n",
      "SANPAOLO_1999.pdf\n",
      "Page 298/298\n",
      "BANKINTER_2010.pdf\n",
      "Page 155/155\n",
      "BANKINTER_2011.pdf\n",
      "Page 155/155\n",
      "BANKINTER_2013.pdf\n",
      "Page 143/143\n",
      "BANKINTER_2012.pdf\n",
      "Page 136/136\n",
      "BANKINTER_2016.pdf\n",
      "Page 179/179\n",
      "BANKINTER_2017.pdf\n",
      "Page 183/183\n",
      "BANKINTER_2015.pdf\n",
      "Page 172/172\n",
      "BANKINTER_2014.pdf\n",
      "Page 209/209\n",
      "BANKINTER_2019.pdf\n",
      "Page 122/122\n",
      "BANKINTER_2018.pdf\n",
      "Page 157/157\n",
      "BANKINTER_2020.pdf\n",
      "Page 134/134\n",
      "BANKINTER_2021.pdf\n",
      "Page 115/115\n",
      "DP_Annual_2008.pdf\n",
      "Page 192/192\n",
      "DP_Annual_2007.pdf\n",
      "Page 182/182\n",
      "ABBEY_2008.pdf\n",
      "Page 155/155\n",
      "ABBEY_2007.pdf\n",
      "Page 135/135\n",
      "ABBEY_2006.pdf\n",
      "Page 177/177\n",
      "ABBEY_2004.pdf\n",
      "Page 127/127\n",
      "ABBEY_2005.pdf\n",
      "Page 164/164\n",
      "ABBEY_2003.pdf\n",
      "Page 78/78\n",
      "CA_2020.pdf\n",
      "Page 62/62\n",
      "CA_2008.pdf\n",
      "Page 92/92\n",
      "CA_2009.pdf\n",
      "Page 94/94\n",
      "CA_2021.pdf\n",
      "Page 74/74\n",
      "CA_2019.pdf\n",
      "Page 52/52\n",
      "CA_2018.pdf\n",
      "Page 50/50\n",
      "CA_2016.pdf\n",
      "Page 552/552\n",
      "CA_2017.pdf\n",
      "Page 58/58\n",
      "CA_2015.pdf\n",
      "Page 79/79\n",
      "CA_2014.pdf\n",
      "Page 85/85\n",
      "CA_2010.pdf\n",
      "Page 94/94\n",
      "CA_2011.pdf\n",
      "Page 45/45\n",
      "CA_2013.pdf\n",
      "Page 82/82\n",
      "CA_2012.pdf\n",
      "Page 83/83\n",
      "NB_Annual_Report_2019.pdf\n",
      "Page 420/420\n",
      "NB_Annual_Report_2018.pdf\n",
      "Page 572/572\n",
      "NB_Annual_Report_2015.pdf\n",
      "Page 452/452\n",
      "NB_Annual_Report_2014.pdf\n",
      "Page 445/445\n",
      "NB_Annual_Report_2016.pdf\n",
      "Page 526/526\n",
      "NB_Annual_Report_2017.pdf\n",
      "Page 554/554\n",
      "GRUPCAIXABANK_2019.pdf\n",
      "Page 110/110\n",
      "GRUPCAIXABANK_2018.pdf\n",
      "Page 108/108\n",
      "GRUPCAIXABANK_2020.pdf\n",
      "Page 663/663\n",
      "GRUPCAIXABANK_2021.pdf\n",
      "Page 818/818\n",
      "GRUPCAIXABANK_2015.pdf\n",
      "Page 120/120\n",
      "GRUPCAIXABANK_2014.pdf\n",
      "Page 123/123\n",
      "GRUPCAIXABANK_2016.pdf\n",
      "Page 120/120\n",
      "GRUPCAIXABANK_2017.pdf\n",
      "Page 120/120\n",
      "POPULAR_2014.pdf\n",
      "Page 70/70\n",
      "POPULAR_2015.pdf\n",
      "Page 67/67\n",
      "POPULAR_2016.pdf\n",
      "Page 67/67\n",
      "POPULAR_2012.pdf\n",
      "Page 95/95\n",
      "POPULAR_2013.pdf\n",
      "Page 90/90\n",
      "POPULAR_2011.pdf\n",
      "Page 97/97\n",
      "POPULAR_2010.pdf\n",
      "Page 80/80\n",
      "POPULAR_2009.pdf\n",
      "Page 81/81\n",
      "annual-report-and-accounts-2018.pdf\n",
      "Page 322/322\n",
      "annual-report-and-accounts-2019.pdf\n",
      "Page 334/334\n",
      "annual-report-and-accounts-2021.pdf\n",
      "Page 410/410\n",
      "annual-report-and-accounts-2020.pdf\n",
      "Page 382/382\n",
      "annual-report-and-accounts-2011.pdf\n",
      "Page 440/440\n",
      "annual-report-and-accounts-2010.pdf\n",
      "Page 396/396\n",
      "annual-report-and-accounts-2012.pdf\n",
      "Page 546/546\n",
      "annual-report-and-accounts-2013.pdf\n",
      "Page 598/598\n",
      "annual-report-and-accounts-2017.pdf\n",
      "Page 274/274\n",
      "annual-report-and-accounts-2016.pdf\n",
      "Page 286/286\n",
      "annual-report-and-accounts-2014.pdf\n",
      "Page 488/488\n",
      "annual-report-and-accounts-2015.pdf\n",
      "Page 502/502\n",
      "DresdnerBank_2003.pdf\n",
      "Page 101/101\n",
      "DresdnerBank_2005.pdf\n",
      "Page 201/201\n",
      "DresdnerBank_2004.pdf\n",
      "Page 131/131\n",
      "DresdnerBank_2006.pdf\n",
      "Page 161/161\n",
      "DresdnerBank_2007.pdf\n",
      "Page 194/194\n",
      "DresdnerBank_2008.pdf\n",
      "Page 204/204\n",
      "annual-report-bankia-2020.pdf\n",
      "Page 186/186\n",
      "annual-report-bankia-2019.pdf\n",
      "Page 78/78\n",
      "annual-report-bankia-2018.pdf\n",
      "Page 266/266\n",
      "annual-report-bankia-2016.pdf\n",
      "Page 216/216\n",
      "annual-report-bankia-2017.pdf\n",
      "Page 232/232\n",
      "annual-report-bankia-2015.pdf\n",
      "Page 200/200\n",
      "annual-report-bankia-2014.pdf\n",
      "Page 200/200\n",
      "DZBANK_Group_AR2011.pdf\n",
      "Page 322/322\n",
      "SANT-annual-report-en-2013.pdf\n",
      "Page 274/274\n",
      "SANT-annual-report-en-2012.pdf\n",
      "Page 258/258\n",
      "SANT-annual-report-en-2010.pdf\n",
      "Page 218/218\n",
      "SANT-annual-report-en-2011.pdf\n",
      "Page 216/216\n",
      "SANT-annual-report-en-2015.pdf\n",
      "Page 296/296\n",
      "SANT-annual-report-en-2014.pdf\n",
      "Page 288/288\n",
      "SANT-annual-report-en-2016.pdf\n",
      "Page 286/286\n",
      "SANT-annual-report-en-2017.pdf\n",
      "Page 302/302\n",
      "SANT-annual-report-en-2019.pdf\n",
      "Page 788/788\n",
      "SANT-annual-report-en-2018.pdf\n",
      "Page 769/769\n",
      "SANT-annual-report-en-2020.pdf\n",
      "Page 842/842\n",
      "SANT-annual-report-en-2009.pdf\n",
      "Page 206/206\n",
      "SANT-annual-report-en-2021.pdf\n",
      "Page 810/810\n",
      "NYSE_BBVA_2020.pdf\n",
      "Page 590/590\n",
      "NYSE_BBVA_2021.pdf\n",
      "Page 503/503\n",
      "NYSE_BBVA_2019.pdf\n",
      "Page 517/517\n",
      "NYSE_BBVA_2018.pdf\n",
      "Page 179/179\n",
      "NYSE_BBVA_2015.pdf\n",
      "Page 248/248\n",
      "NYSE_BBVA_2014.pdf\n",
      "Page 379/379\n",
      "NYSE_BBVA_2016.pdf\n",
      "Page 341/341\n",
      "NYSE_BBVA_2017.pdf\n",
      "Page 168/168\n",
      "COMMERZBANK_2006.pdf\n",
      "Page 240/240\n",
      "COMMERZBANK_2012.pdf\n",
      "Page 359/359\n",
      "COMMERZBANK_2013.pdf\n",
      "Page 345/345\n",
      "COMMERZBANK_2007.pdf\n",
      "Page 271/271\n",
      "COMMERZBANK_2011.pdf\n",
      "Page 377/377\n",
      "COMMERZBANK_2014.pdf\n",
      "Page 347/347\n",
      "COMMERZBANK_2009.pdf\n",
      "Page 330/330\n",
      "COMMERZBANK_2008.pdf\n",
      "Page 325/325\n",
      "BNPP_2015.pdf\n",
      "Page 63/63\n",
      "BNPP_2014.pdf\n",
      "Page 64/64\n",
      "BNPP_2016.pdf\n",
      "Page 92/92\n",
      "BNPP_2017.pdf\n",
      "Page 42/42\n",
      "BNPP_2013.pdf\n",
      "Page 48/48\n",
      "BNPP_2012.pdf\n",
      "Page 76/76\n",
      "BNPP_2010.pdf\n",
      "Page 116/116\n",
      "BNPP_2020.pdf\n",
      "Page 41/41\n",
      "BNPP_2009.pdf\n",
      "Page 172/172\n",
      "BNPP_2019.pdf\n",
      "Page 34/34\n",
      "BNPP_2018.pdf\n",
      "Page 56/56\n",
      "ABANCA_2019.pdf\n",
      "Page 456/456\n",
      "ABANCA_2018.pdf\n",
      "Page 499/499\n",
      "ABANCA_2016.pdf\n",
      "Page 223/223\n",
      "ABANCA_2017.pdf\n",
      "Page 417/417\n",
      "ABANCA_2015.pdf\n",
      "Page 267/267\n",
      "ABANCA_2014.pdf\n",
      "Page 275/275\r"
     ]
    }
   ],
   "source": [
    "start_time = time.time()\n",
    "\n",
    "raw_texts = []\n",
    "for path in pdf_paths:\n",
    "    try:\n",
    "        pdfReader = PyPDF2.PdfFileReader(path)\n",
    "        #Discerning the number of pages will allow us to parse through all the pages.\n",
    "        num_pages = pdfReader.numPages\n",
    "    except:\n",
    "        #print(f'Error with path: {path}')\n",
    "        continue\n",
    "    count = 0\n",
    "    pages = []\n",
    "    print(f'\\n{path.split(\"/\")[-1]}')\n",
    "    while count < num_pages:\n",
    "        print(f'Page {count+1}/{num_pages}', end=\"\\r\")\n",
    "        pageObj = pdfReader.getPage(count)\n",
    "        pages.append(pageObj.extractText())\n",
    "        count += 1\n",
    "    pdf_dict = {\n",
    "        'path':path,\n",
    "        'pages':pages,\n",
    "    }\n",
    "    raw_texts.append(pdf_dict)\n",
    "    \n",
    "end_time = time.time()"
   ]
  },
  {
   "cell_type": "markdown",
   "id": "7c1a86d4",
   "metadata": {},
   "source": [
    "Tiempo de ejecución:"
   ]
  },
  {
   "cell_type": "code",
   "execution_count": 15,
   "id": "856984af",
   "metadata": {},
   "outputs": [
    {
     "name": "stdout",
     "output_type": "stream",
     "text": [
      "--- Tiempo de ejecución: \n",
      "\t1761 segundos\n",
      "\t29.4 minutos\n"
     ]
    }
   ],
   "source": [
    "total_time = end_time - start_time\n",
    "\n",
    "print(f\"--- Tiempo de ejecución: \\n\\t{round(total_time)} segundos\\n\\t{round(total_time/60,1)} minutos\")"
   ]
  },
  {
   "cell_type": "code",
   "execution_count": 16,
   "id": "78d50257",
   "metadata": {},
   "outputs": [
    {
     "data": {
      "text/plain": [
       "275"
      ]
     },
     "execution_count": 16,
     "metadata": {},
     "output_type": "execute_result"
    }
   ],
   "source": [
    "num_pages"
   ]
  },
  {
   "cell_type": "code",
   "execution_count": 17,
   "id": "ec826047",
   "metadata": {},
   "outputs": [],
   "source": [
    "pageObj = pdfReader.getPage(4)"
   ]
  },
  {
   "cell_type": "code",
   "execution_count": 18,
   "id": "8d02b3ef",
   "metadata": {},
   "outputs": [
    {
     "data": {
      "text/plain": [
       "'ABANCA Corporación Bancaria, S.A.\\nNota\\nEjercicio 2014\\nEjercicio 2013 (*)\\nINTERESES Y RENDIMIENTOS ASIMILADOS\\n28\\n1.113.674\\n1.457.707\\nINTERESES Y CARGAS ASIMILADAS\\n29\\n(555.844)\\n(788.842)\\nMARGEN DE INTERÉS\\n557.830\\n668.865\\nRENDIMIENTO DE INSTRUMENTOS DE CAPITAL\\n30\\n2.244\\n1.852\\nCOMISIONES PERCIBIDAS\\n31\\n159.791\\n182.009\\nCOMISIONES PAGADAS\\n32\\n(18.931)\\n(24.557)\\nRESULTADOS DE OPERACIONES FINANCIERAS (neto)\\n33\\n422.948\\n609.018\\n   Cartera de negociación\\n10\\n209\\n2.520\\n   Instrumentos financieros no valorados a valor razonable con cambios en pérdidas y ganancias\\n422.947\\n631.531\\n   Otros\\n10\\n(208)\\n(25.033)\\nDIFERENCIAS DE CAMBIO (neto)\\n4.988\\n4.393\\nOTROS PRODUCTOS DE EXPLOTACIÓN\\n34\\n158.280\\n21.362\\nOTRAS CARGAS DE EXPLOTACIÓN\\n37\\n(103.987)\\n(128.615)\\nMARGEN BRUTO\\n1.183.163\\n1.334.327\\nGASTOS DE ADMINISTRACIÓN\\n(447.000)\\n(506.689)\\n   Gastos de personal\\n35\\n(274.462)\\n(328.084)\\n   Otros gastos generales de administración\\n36\\n(172.538)\\n(178.605)\\nAMORTIZACIÓN\\n(36.452)\\n(45.405)\\n   Activo material\\n13\\n(36.387)\\n(45.374)\\n   Activo intangible\\n14\\n(65)\\n(31)\\nPÉRDIDAS POR DETERIORO DE ACTIVOS FINANCIEROS (neto)\\n(47.914)\\n(247.547)\\n   Inversiones crediticias\\n9\\n(47.914)\\n(228.732)\\n   Activos financieros disponibles para la venta\\n8 y 11\\n-\\n(18.815)\\nDOTACIONES A PROVISIONES (neto)\\n21\\n(25.074)\\n(396.492)\\nRESULTADO DE LAS ACTIVIDADES DE EXPLOTACIÓN\\n626.723\\n138.194\\nPÉRDIDAS POR DETERIORO DEL RESTO DE ACTIVOS (neto)\\n111.692\\n(315.116)\\n   Otros activos\\n12 y 13\\n111.692\\n(315.116)\\nGANANCIAS (PÉRDIDAS) EN LA BAJA DE ACTIVOS NO CLASIFICADOS COMO NO CORRIENTES EN VENTA\\n38\\n13.367\\n(6.865)\\nGANANCIAS (PÉRDIDAS) DE ACTIVOS NO CORRIENTES EN VENTA \\nNO CLASIFICADOS COMO OPERACIONES INTERRUMPIDAS\\n11\\n74\\n(385.932)\\nRESULTADO ANTES DE IMPUESTOS\\n751.856\\n(569.719)\\nIMPUESTO SOBRE BENEFICIOS\\n26\\n446.807\\n364.235\\nRESULTADO DEL EJERCICIO PROCEDENTE DE OPERACIONES CONTINUADAS\\n1.198.663\\n(205.484)\\nRESULTADO DE OPERACIONES INTERRUMPIDAS (NETO)\\n-\\n-\\nRESULTADO DEL EJERCICIO\\n1.198.663\\n(205.484)\\nBENEFICIO/(PÉRDIDA) POR ACCIÓN\\nBásico\\n0,5285\\n(0,1054)\\nDiluido\\n0,5285\\n(0,1054)\\nLas Notas 1 a 49 descritas en la Memoria y los Anexos I a III adjuntos,\\nforman parte integrante de las cuentas anuales del ejercicio 2014\\nCUENTAS DE PÉRDIDAS Y GANANCIAS CORRESPONDIENTES A LOS EJERCICIOS ANUALES TERMINADOS\\nEL 31 DE DICIEMBRE DE 2014 Y 2013\\n (Miles de Euros)\\nIngresos / (Gastos)\\n(*) Se presenta, única y exclusivamente, a efectos comparativos. Véase Nota 1.3.\\n3\\n'"
      ]
     },
     "execution_count": 18,
     "metadata": {},
     "output_type": "execute_result"
    }
   ],
   "source": [
    "pageObj.extractText()"
   ]
  },
  {
   "cell_type": "code",
   "execution_count": 19,
   "id": "7309967c",
   "metadata": {},
   "outputs": [
    {
     "data": {
      "text/html": [
       "<div>\n",
       "<style scoped>\n",
       "    .dataframe tbody tr th:only-of-type {\n",
       "        vertical-align: middle;\n",
       "    }\n",
       "\n",
       "    .dataframe tbody tr th {\n",
       "        vertical-align: top;\n",
       "    }\n",
       "\n",
       "    .dataframe thead th {\n",
       "        text-align: right;\n",
       "    }\n",
       "</style>\n",
       "<table border=\"1\" class=\"dataframe\">\n",
       "  <thead>\n",
       "    <tr style=\"text-align: right;\">\n",
       "      <th></th>\n",
       "      <th>path</th>\n",
       "      <th>pages</th>\n",
       "      <th>bank</th>\n",
       "      <th>year</th>\n",
       "    </tr>\n",
       "  </thead>\n",
       "  <tbody>\n",
       "    <tr>\n",
       "      <th>0</th>\n",
       "      <td>../Data/RAW/DEUTSCHE_BANK/Annual+Report+2009.pdf</td>\n",
       "      <td>[\\n\\n\\n\\n\\n\\n\\n\\n\\n\\n\\n\\n\\n\\n\\n\\n\\n\\n\\n\\n\\n\\n\\...</td>\n",
       "      <td>DEUTSCHE_BANK</td>\n",
       "      <td>2009</td>\n",
       "    </tr>\n",
       "    <tr>\n",
       "      <th>1</th>\n",
       "      <td>../Data/RAW/DEUTSCHE_BANK/Annual+Report+2008.pdf</td>\n",
       "      <td>[\\n\\n\\n\\n\\n\\n\\n\\n\\n\\n\\n\\n\\n\\n\\n\\n\\n\\n\\n\\n\\n\\n\\...</td>\n",
       "      <td>DEUTSCHE_BANK</td>\n",
       "      <td>2008</td>\n",
       "    </tr>\n",
       "    <tr>\n",
       "      <th>2</th>\n",
       "      <td>../Data/RAW/DEUTSCHE_BANK/Annual+Report+2018.pdf</td>\n",
       "      <td>[ Annual Report\\n 2018\\nDeutsche Bank, Deutsch...</td>\n",
       "      <td>DEUTSCHE_BANK</td>\n",
       "      <td>2018</td>\n",
       "    </tr>\n",
       "    <tr>\n",
       "      <th>3</th>\n",
       "      <td>../Data/RAW/DEUTSCHE_BANK/Annual+Report+2014.pdf</td>\n",
       "      <td>[\\n\\n \\n earning trust\\n, Deutsche Bank\\n\\n\\nB...</td>\n",
       "      <td>DEUTSCHE_BANK</td>\n",
       "      <td>2014</td>\n",
       "    </tr>\n",
       "    <tr>\n",
       "      <th>4</th>\n",
       "      <td>../Data/RAW/DEUTSCHE_BANK/Annual+Report+2012.pdf</td>\n",
       "      <td>[12006_DB_GB_Cover final_mit Rücken.indd   All...</td>\n",
       "      <td>DEUTSCHE_BANK</td>\n",
       "      <td>2012</td>\n",
       "    </tr>\n",
       "    <tr>\n",
       "      <th>...</th>\n",
       "      <td>...</td>\n",
       "      <td>...</td>\n",
       "      <td>...</td>\n",
       "      <td>...</td>\n",
       "    </tr>\n",
       "    <tr>\n",
       "      <th>160</th>\n",
       "      <td>../Data/RAW/ABANCA/ABANCA_2018.pdf</td>\n",
       "      <td>[   ABANCA \\nCorporación \\n\\nBancaria, S.A.\\n ...</td>\n",
       "      <td>ABANCA</td>\n",
       "      <td>2018</td>\n",
       "    </tr>\n",
       "    <tr>\n",
       "      <th>161</th>\n",
       "      <td>../Data/RAW/ABANCA/ABANCA_2016.pdf</td>\n",
       "      <td>[ Abanca Corporación \\nBancaria, S.A.\\n   Annu...</td>\n",
       "      <td>ABANCA</td>\n",
       "      <td>2016</td>\n",
       "    </tr>\n",
       "    <tr>\n",
       "      <th>162</th>\n",
       "      <td>../Data/RAW/ABANCA/ABANCA_2017.pdf</td>\n",
       "      <td>[   ABANCA \\nCorporación \\n\\nBancaria, S.A.\\n ...</td>\n",
       "      <td>ABANCA</td>\n",
       "      <td>2017</td>\n",
       "    </tr>\n",
       "    <tr>\n",
       "      <th>163</th>\n",
       "      <td>../Data/RAW/ABANCA/ABANCA_2015.pdf</td>\n",
       "      <td>[, , , , , , , , ABANCA Corporación Bancaria, ...</td>\n",
       "      <td>ABANCA</td>\n",
       "      <td>2015</td>\n",
       "    </tr>\n",
       "    <tr>\n",
       "      <th>164</th>\n",
       "      <td>../Data/RAW/ABANCA/ABANCA_2014.pdf</td>\n",
       "      <td>[ \\nCuentas Anuales\\n \\n31 de diciembre de 201...</td>\n",
       "      <td>ABANCA</td>\n",
       "      <td>2014</td>\n",
       "    </tr>\n",
       "  </tbody>\n",
       "</table>\n",
       "<p>165 rows × 4 columns</p>\n",
       "</div>"
      ],
      "text/plain": [
       "                                                 path  \\\n",
       "0    ../Data/RAW/DEUTSCHE_BANK/Annual+Report+2009.pdf   \n",
       "1    ../Data/RAW/DEUTSCHE_BANK/Annual+Report+2008.pdf   \n",
       "2    ../Data/RAW/DEUTSCHE_BANK/Annual+Report+2018.pdf   \n",
       "3    ../Data/RAW/DEUTSCHE_BANK/Annual+Report+2014.pdf   \n",
       "4    ../Data/RAW/DEUTSCHE_BANK/Annual+Report+2012.pdf   \n",
       "..                                                ...   \n",
       "160                ../Data/RAW/ABANCA/ABANCA_2018.pdf   \n",
       "161                ../Data/RAW/ABANCA/ABANCA_2016.pdf   \n",
       "162                ../Data/RAW/ABANCA/ABANCA_2017.pdf   \n",
       "163                ../Data/RAW/ABANCA/ABANCA_2015.pdf   \n",
       "164                ../Data/RAW/ABANCA/ABANCA_2014.pdf   \n",
       "\n",
       "                                                 pages           bank  year  \n",
       "0    [\\n\\n\\n\\n\\n\\n\\n\\n\\n\\n\\n\\n\\n\\n\\n\\n\\n\\n\\n\\n\\n\\n\\...  DEUTSCHE_BANK  2009  \n",
       "1    [\\n\\n\\n\\n\\n\\n\\n\\n\\n\\n\\n\\n\\n\\n\\n\\n\\n\\n\\n\\n\\n\\n\\...  DEUTSCHE_BANK  2008  \n",
       "2    [ Annual Report\\n 2018\\nDeutsche Bank, Deutsch...  DEUTSCHE_BANK  2018  \n",
       "3    [\\n\\n \\n earning trust\\n, Deutsche Bank\\n\\n\\nB...  DEUTSCHE_BANK  2014  \n",
       "4    [12006_DB_GB_Cover final_mit Rücken.indd   All...  DEUTSCHE_BANK  2012  \n",
       "..                                                 ...            ...   ...  \n",
       "160  [   ABANCA \\nCorporación \\n\\nBancaria, S.A.\\n ...         ABANCA  2018  \n",
       "161  [ Abanca Corporación \\nBancaria, S.A.\\n   Annu...         ABANCA  2016  \n",
       "162  [   ABANCA \\nCorporación \\n\\nBancaria, S.A.\\n ...         ABANCA  2017  \n",
       "163  [, , , , , , , , ABANCA Corporación Bancaria, ...         ABANCA  2015  \n",
       "164  [ \\nCuentas Anuales\\n \\n31 de diciembre de 201...         ABANCA  2014  \n",
       "\n",
       "[165 rows x 4 columns]"
      ]
     },
     "execution_count": 19,
     "metadata": {},
     "output_type": "execute_result"
    }
   ],
   "source": [
    "data = pd.DataFrame(raw_texts)\n",
    "data['bank'] = data['path'].apply(lambda x: x.split('/')[3])\n",
    "data['year'] = data['path'].apply(lambda x: x[-8:-4])\n",
    "data"
   ]
  },
  {
   "cell_type": "code",
   "execution_count": 20,
   "id": "1fcb5a4c",
   "metadata": {},
   "outputs": [],
   "source": [
    "data = data.explode('pages').reset_index().reset_index()"
   ]
  },
  {
   "cell_type": "code",
   "execution_count": 21,
   "id": "ff41865b",
   "metadata": {},
   "outputs": [
    {
     "data": {
      "text/html": [
       "<div>\n",
       "<style scoped>\n",
       "    .dataframe tbody tr th:only-of-type {\n",
       "        vertical-align: middle;\n",
       "    }\n",
       "\n",
       "    .dataframe tbody tr th {\n",
       "        vertical-align: top;\n",
       "    }\n",
       "\n",
       "    .dataframe thead th {\n",
       "        text-align: right;\n",
       "    }\n",
       "</style>\n",
       "<table border=\"1\" class=\"dataframe\">\n",
       "  <thead>\n",
       "    <tr style=\"text-align: right;\">\n",
       "      <th></th>\n",
       "      <th>level_0</th>\n",
       "      <th>index</th>\n",
       "      <th>path</th>\n",
       "      <th>pages</th>\n",
       "      <th>bank</th>\n",
       "      <th>year</th>\n",
       "    </tr>\n",
       "  </thead>\n",
       "  <tbody>\n",
       "    <tr>\n",
       "      <th>0</th>\n",
       "      <td>0</td>\n",
       "      <td>0</td>\n",
       "      <td>../Data/RAW/DEUTSCHE_BANK/Annual+Report+2009.pdf</td>\n",
       "      <td>\\n\\n\\n\\n\\n\\n\\n\\n\\n\\n\\n\\n\\n\\n\\n\\n\\n\\n\\n\\n\\n\\n\\n...</td>\n",
       "      <td>DEUTSCHE_BANK</td>\n",
       "      <td>2009</td>\n",
       "    </tr>\n",
       "    <tr>\n",
       "      <th>1</th>\n",
       "      <td>1</td>\n",
       "      <td>0</td>\n",
       "      <td>../Data/RAW/DEUTSCHE_BANK/Annual+Report+2009.pdf</td>\n",
       "      <td>\\n\\n\\n\\n\\n\\n\\n\\n\\n\\n\\n\\n\\n\\n\\n\\n\\n\\n\\n\\n\\n\\n\\n...</td>\n",
       "      <td>DEUTSCHE_BANK</td>\n",
       "      <td>2009</td>\n",
       "    </tr>\n",
       "    <tr>\n",
       "      <th>2</th>\n",
       "      <td>2</td>\n",
       "      <td>0</td>\n",
       "      <td>../Data/RAW/DEUTSCHE_BANK/Annual+Report+2009.pdf</td>\n",
       "      <td>\\n\\n\\n\\n\\n\\n\\n\\n\\n\\n\\n\\n\\n\\n\\n\\n\\n\\n\\n\\n\\n\\n\\n...</td>\n",
       "      <td>DEUTSCHE_BANK</td>\n",
       "      <td>2009</td>\n",
       "    </tr>\n",
       "    <tr>\n",
       "      <th>3</th>\n",
       "      <td>3</td>\n",
       "      <td>0</td>\n",
       "      <td>../Data/RAW/DEUTSCHE_BANK/Annual+Report+2009.pdf</td>\n",
       "      <td>\\n\\n\\n\\n\\n\\n\\n\\n\\n\\n\\n\\n\\n\\n\\n\\n\\n\\n\\n\\n\\n\\n\\n...</td>\n",
       "      <td>DEUTSCHE_BANK</td>\n",
       "      <td>2009</td>\n",
       "    </tr>\n",
       "    <tr>\n",
       "      <th>4</th>\n",
       "      <td>4</td>\n",
       "      <td>0</td>\n",
       "      <td>../Data/RAW/DEUTSCHE_BANK/Annual+Report+2009.pdf</td>\n",
       "      <td>\\n\\n\\n\\n\\n\\n\\n\\n\\n\\n\\n\\n\\n\\n\\n\\n\\n\\n\\n\\n\\n\\n\\n...</td>\n",
       "      <td>DEUTSCHE_BANK</td>\n",
       "      <td>2009</td>\n",
       "    </tr>\n",
       "    <tr>\n",
       "      <th>...</th>\n",
       "      <td>...</td>\n",
       "      <td>...</td>\n",
       "      <td>...</td>\n",
       "      <td>...</td>\n",
       "      <td>...</td>\n",
       "      <td>...</td>\n",
       "    </tr>\n",
       "    <tr>\n",
       "      <th>43888</th>\n",
       "      <td>43888</td>\n",
       "      <td>164</td>\n",
       "      <td>../Data/RAW/ABANCA/ABANCA_2014.pdf</td>\n",
       "      <td>34\\n \\n \\nLa entidad también podrá indicar si ...</td>\n",
       "      <td>ABANCA</td>\n",
       "      <td>2014</td>\n",
       "    </tr>\n",
       "    <tr>\n",
       "      <th>43889</th>\n",
       "      <td>43889</td>\n",
       "      <td>164</td>\n",
       "      <td>../Data/RAW/ABANCA/ABANCA_2014.pdf</td>\n",
       "      <td>35\\n \\n \\n \\n-\\n \\nApartados B.1 y B.2: el quó...</td>\n",
       "      <td>ABANCA</td>\n",
       "      <td>2014</td>\n",
       "    </tr>\n",
       "    <tr>\n",
       "      <th>43890</th>\n",
       "      <td>43890</td>\n",
       "      <td>164</td>\n",
       "      <td>../Data/RAW/ABANCA/ABANCA_2014.pdf</td>\n",
       "      <td>36\\n \\n \\nparticipadas o a alguna de sus Comis...</td>\n",
       "      <td>ABANCA</td>\n",
       "      <td>2014</td>\n",
       "    </tr>\n",
       "    <tr>\n",
       "      <th>43891</th>\n",
       "      <td>43891</td>\n",
       "      <td>164</td>\n",
       "      <td>../Data/RAW/ABANCA/ABANCA_2014.pdf</td>\n",
       "      <td>37\\n \\n \\nIndique los Consejeros o Miembros de...</td>\n",
       "      <td>ABANCA</td>\n",
       "      <td>2014</td>\n",
       "    </tr>\n",
       "    <tr>\n",
       "      <th>43892</th>\n",
       "      <td>43892</td>\n",
       "      <td>164</td>\n",
       "      <td>../Data/RAW/ABANCA/ABANCA_2014.pdf</td>\n",
       "      <td>Reunido el Consejo de Administración ABANCA Co...</td>\n",
       "      <td>ABANCA</td>\n",
       "      <td>2014</td>\n",
       "    </tr>\n",
       "  </tbody>\n",
       "</table>\n",
       "<p>43893 rows × 6 columns</p>\n",
       "</div>"
      ],
      "text/plain": [
       "       level_0  index                                              path  \\\n",
       "0            0      0  ../Data/RAW/DEUTSCHE_BANK/Annual+Report+2009.pdf   \n",
       "1            1      0  ../Data/RAW/DEUTSCHE_BANK/Annual+Report+2009.pdf   \n",
       "2            2      0  ../Data/RAW/DEUTSCHE_BANK/Annual+Report+2009.pdf   \n",
       "3            3      0  ../Data/RAW/DEUTSCHE_BANK/Annual+Report+2009.pdf   \n",
       "4            4      0  ../Data/RAW/DEUTSCHE_BANK/Annual+Report+2009.pdf   \n",
       "...        ...    ...                                               ...   \n",
       "43888    43888    164                ../Data/RAW/ABANCA/ABANCA_2014.pdf   \n",
       "43889    43889    164                ../Data/RAW/ABANCA/ABANCA_2014.pdf   \n",
       "43890    43890    164                ../Data/RAW/ABANCA/ABANCA_2014.pdf   \n",
       "43891    43891    164                ../Data/RAW/ABANCA/ABANCA_2014.pdf   \n",
       "43892    43892    164                ../Data/RAW/ABANCA/ABANCA_2014.pdf   \n",
       "\n",
       "                                                   pages           bank  year  \n",
       "0      \\n\\n\\n\\n\\n\\n\\n\\n\\n\\n\\n\\n\\n\\n\\n\\n\\n\\n\\n\\n\\n\\n\\n...  DEUTSCHE_BANK  2009  \n",
       "1      \\n\\n\\n\\n\\n\\n\\n\\n\\n\\n\\n\\n\\n\\n\\n\\n\\n\\n\\n\\n\\n\\n\\n...  DEUTSCHE_BANK  2009  \n",
       "2      \\n\\n\\n\\n\\n\\n\\n\\n\\n\\n\\n\\n\\n\\n\\n\\n\\n\\n\\n\\n\\n\\n\\n...  DEUTSCHE_BANK  2009  \n",
       "3      \\n\\n\\n\\n\\n\\n\\n\\n\\n\\n\\n\\n\\n\\n\\n\\n\\n\\n\\n\\n\\n\\n\\n...  DEUTSCHE_BANK  2009  \n",
       "4      \\n\\n\\n\\n\\n\\n\\n\\n\\n\\n\\n\\n\\n\\n\\n\\n\\n\\n\\n\\n\\n\\n\\n...  DEUTSCHE_BANK  2009  \n",
       "...                                                  ...            ...   ...  \n",
       "43888  34\\n \\n \\nLa entidad también podrá indicar si ...         ABANCA  2014  \n",
       "43889  35\\n \\n \\n \\n-\\n \\nApartados B.1 y B.2: el quó...         ABANCA  2014  \n",
       "43890  36\\n \\n \\nparticipadas o a alguna de sus Comis...         ABANCA  2014  \n",
       "43891  37\\n \\n \\nIndique los Consejeros o Miembros de...         ABANCA  2014  \n",
       "43892  Reunido el Consejo de Administración ABANCA Co...         ABANCA  2014  \n",
       "\n",
       "[43893 rows x 6 columns]"
      ]
     },
     "execution_count": 21,
     "metadata": {},
     "output_type": "execute_result"
    }
   ],
   "source": [
    "data"
   ]
  },
  {
   "cell_type": "code",
   "execution_count": 22,
   "id": "cbf96737",
   "metadata": {},
   "outputs": [],
   "source": [
    "data['page'] = data.groupby('index').rank('max').rename(columns={'level_0':'page'})['page']"
   ]
  },
  {
   "cell_type": "code",
   "execution_count": 23,
   "id": "269a1425",
   "metadata": {},
   "outputs": [],
   "source": [
    "data['page'] = data['page'].astype('int')"
   ]
  },
  {
   "cell_type": "code",
   "execution_count": 24,
   "id": "87ee8f1a",
   "metadata": {},
   "outputs": [],
   "source": [
    "df_data = (data.drop(columns=['level_0','index','path'])\n",
    "               .set_index(['bank','year','page'])\n",
    "               .rename(columns={'pages':'text'})\n",
    "          )"
   ]
  },
  {
   "cell_type": "markdown",
   "id": "8a26d2be",
   "metadata": {},
   "source": [
    "## Save Checkpoint"
   ]
  },
  {
   "cell_type": "code",
   "execution_count": 25,
   "id": "64591f60",
   "metadata": {},
   "outputs": [],
   "source": [
    "df_data.to_parquet(raw_pages)"
   ]
  },
  {
   "cell_type": "code",
   "execution_count": 7,
   "id": "dbdb8ce3",
   "metadata": {},
   "outputs": [],
   "source": [
    "df_data = pd.read_parquet(raw_pages)"
   ]
  },
  {
   "cell_type": "markdown",
   "id": "1d4e27d3",
   "metadata": {},
   "source": [
    "## Procesado de Texto"
   ]
  },
  {
   "cell_type": "code",
   "execution_count": 62,
   "id": "0d65cc6e",
   "metadata": {},
   "outputs": [
    {
     "data": {
      "text/html": [
       "<div>\n",
       "<style scoped>\n",
       "    .dataframe tbody tr th:only-of-type {\n",
       "        vertical-align: middle;\n",
       "    }\n",
       "\n",
       "    .dataframe tbody tr th {\n",
       "        vertical-align: top;\n",
       "    }\n",
       "\n",
       "    .dataframe thead th {\n",
       "        text-align: right;\n",
       "    }\n",
       "</style>\n",
       "<table border=\"1\" class=\"dataframe\">\n",
       "  <thead>\n",
       "    <tr style=\"text-align: right;\">\n",
       "      <th></th>\n",
       "      <th></th>\n",
       "      <th></th>\n",
       "      <th>text</th>\n",
       "    </tr>\n",
       "    <tr>\n",
       "      <th>bank</th>\n",
       "      <th>year</th>\n",
       "      <th>page</th>\n",
       "      <th></th>\n",
       "    </tr>\n",
       "  </thead>\n",
       "  <tbody>\n",
       "    <tr>\n",
       "      <th rowspan=\"5\" valign=\"top\">DEUTSCHE_BANK</th>\n",
       "      <th rowspan=\"5\" valign=\"top\">2009</th>\n",
       "      <th>1</th>\n",
       "      <td>\\n\\n\\n\\n\\n\\n\\n\\n\\n\\n\\n\\n\\n\\n\\n\\n\\n\\n\\n\\n\\n\\n\\n...</td>\n",
       "    </tr>\n",
       "    <tr>\n",
       "      <th>2</th>\n",
       "      <td>\\n\\n\\n\\n\\n\\n\\n\\n\\n\\n\\n\\n\\n\\n\\n\\n\\n\\n\\n\\n\\n\\n\\n...</td>\n",
       "    </tr>\n",
       "    <tr>\n",
       "      <th>3</th>\n",
       "      <td>\\n\\n\\n\\n\\n\\n\\n\\n\\n\\n\\n\\n\\n\\n\\n\\n\\n\\n\\n\\n\\n\\n\\n...</td>\n",
       "    </tr>\n",
       "    <tr>\n",
       "      <th>4</th>\n",
       "      <td>\\n\\n\\n\\n\\n\\n\\n\\n\\n\\n\\n\\n\\n\\n\\n\\n\\n\\n\\n\\n\\n\\n\\n...</td>\n",
       "    </tr>\n",
       "    <tr>\n",
       "      <th>5</th>\n",
       "      <td>\\n\\n\\n\\n\\n\\n\\n\\n\\n\\n\\n\\n\\n\\n\\n\\n\\n\\n\\n\\n\\n\\n\\n...</td>\n",
       "    </tr>\n",
       "  </tbody>\n",
       "</table>\n",
       "</div>"
      ],
      "text/plain": [
       "                                                                      text\n",
       "bank          year page                                                   \n",
       "DEUTSCHE_BANK 2009 1     \\n\\n\\n\\n\\n\\n\\n\\n\\n\\n\\n\\n\\n\\n\\n\\n\\n\\n\\n\\n\\n\\n\\n...\n",
       "                   2     \\n\\n\\n\\n\\n\\n\\n\\n\\n\\n\\n\\n\\n\\n\\n\\n\\n\\n\\n\\n\\n\\n\\n...\n",
       "                   3     \\n\\n\\n\\n\\n\\n\\n\\n\\n\\n\\n\\n\\n\\n\\n\\n\\n\\n\\n\\n\\n\\n\\n...\n",
       "                   4     \\n\\n\\n\\n\\n\\n\\n\\n\\n\\n\\n\\n\\n\\n\\n\\n\\n\\n\\n\\n\\n\\n\\n...\n",
       "                   5     \\n\\n\\n\\n\\n\\n\\n\\n\\n\\n\\n\\n\\n\\n\\n\\n\\n\\n\\n\\n\\n\\n\\n..."
      ]
     },
     "execution_count": 62,
     "metadata": {},
     "output_type": "execute_result"
    }
   ],
   "source": [
    "df_data.head()"
   ]
  },
  {
   "cell_type": "code",
   "execution_count": 63,
   "id": "75009129",
   "metadata": {},
   "outputs": [],
   "source": [
    "def clean_text(text):\n",
    "    import re\n",
    "    text = re.sub(r\"\\n\\n\", \".\", text)\n",
    "    text = re.sub(r\"\\n\", \" \", text)\n",
    "    text = re.sub(\":\", \" \", text)\n",
    "    text = re.sub(r\"[^a-zA-Z.\\s:]\", \"\", text)\n",
    "    text = re.sub(r' +', ' ', text)\n",
    "    text = text.strip()\n",
    "    if text == '':\n",
    "        return None\n",
    "    return list(filter(None, text.split('.')))"
   ]
  },
  {
   "cell_type": "code",
   "execution_count": 64,
   "id": "37b82a0c",
   "metadata": {},
   "outputs": [
    {
     "name": "stderr",
     "output_type": "stream",
     "text": [
      "100%|█████████████████████████████████████████████████████████████████████████████████████| 43893/43893 [00:08<00:00, 5117.09it/s]\n"
     ]
    },
    {
     "data": {
      "text/html": [
       "<div>\n",
       "<style scoped>\n",
       "    .dataframe tbody tr th:only-of-type {\n",
       "        vertical-align: middle;\n",
       "    }\n",
       "\n",
       "    .dataframe tbody tr th {\n",
       "        vertical-align: top;\n",
       "    }\n",
       "\n",
       "    .dataframe thead th {\n",
       "        text-align: right;\n",
       "    }\n",
       "</style>\n",
       "<table border=\"1\" class=\"dataframe\">\n",
       "  <thead>\n",
       "    <tr style=\"text-align: right;\">\n",
       "      <th></th>\n",
       "      <th></th>\n",
       "      <th></th>\n",
       "      <th>text</th>\n",
       "      <th>scentences</th>\n",
       "    </tr>\n",
       "    <tr>\n",
       "      <th>bank</th>\n",
       "      <th>year</th>\n",
       "      <th>page</th>\n",
       "      <th></th>\n",
       "      <th></th>\n",
       "    </tr>\n",
       "  </thead>\n",
       "  <tbody>\n",
       "    <tr>\n",
       "      <th rowspan=\"5\" valign=\"top\">DEUTSCHE_BANK</th>\n",
       "      <th rowspan=\"5\" valign=\"top\">2009</th>\n",
       "      <th>1</th>\n",
       "      <td>\\n\\n\\n\\n\\n\\n\\n\\n\\n\\n\\n\\n\\n\\n\\n\\n\\n\\n\\n\\n\\n\\n\\n...</td>\n",
       "      <td>[]</td>\n",
       "    </tr>\n",
       "    <tr>\n",
       "      <th>2</th>\n",
       "      <td>\\n\\n\\n\\n\\n\\n\\n\\n\\n\\n\\n\\n\\n\\n\\n\\n\\n\\n\\n\\n\\n\\n\\n...</td>\n",
       "      <td>[ Draft for theManagement BoardStand xx, xx]</td>\n",
       "    </tr>\n",
       "    <tr>\n",
       "      <th>3</th>\n",
       "      <td>\\n\\n\\n\\n\\n\\n\\n\\n\\n\\n\\n\\n\\n\\n\\n\\n\\n\\n\\n\\n\\n\\n\\n...</td>\n",
       "      <td>[]</td>\n",
       "    </tr>\n",
       "    <tr>\n",
       "      <th>4</th>\n",
       "      <td>\\n\\n\\n\\n\\n\\n\\n\\n\\n\\n\\n\\n\\n\\n\\n\\n\\n\\n\\n\\n\\n\\n\\n...</td>\n",
       "      <td>[]</td>\n",
       "    </tr>\n",
       "    <tr>\n",
       "      <th>5</th>\n",
       "      <td>\\n\\n\\n\\n\\n\\n\\n\\n\\n\\n\\n\\n\\n\\n\\n\\n\\n\\n\\n\\n\\n\\n\\n...</td>\n",
       "      <td>[]</td>\n",
       "    </tr>\n",
       "    <tr>\n",
       "      <th>...</th>\n",
       "      <th>...</th>\n",
       "      <th>...</th>\n",
       "      <td>...</td>\n",
       "      <td>...</td>\n",
       "    </tr>\n",
       "    <tr>\n",
       "      <th rowspan=\"5\" valign=\"top\">ABANCA</th>\n",
       "      <th rowspan=\"5\" valign=\"top\">2014</th>\n",
       "      <th>271</th>\n",
       "      <td>34\\n \\n \\nLa entidad también podrá indicar si ...</td>\n",
       "      <td>[La entidad tambin podr indicar si se ha adher...</td>\n",
       "    </tr>\n",
       "    <tr>\n",
       "      <th>272</th>\n",
       "      <td>35\\n \\n \\n \\n-\\n \\nApartados B.1 y B.2: el quó...</td>\n",
       "      <td>[Apartados B,  y B,  el qurum de constitucin d...</td>\n",
       "    </tr>\n",
       "    <tr>\n",
       "      <th>273</th>\n",
       "      <td>36\\n \\n \\nparticipadas o a alguna de sus Comis...</td>\n",
       "      <td>[participadas o a alguna de sus Comisiones de ...</td>\n",
       "    </tr>\n",
       "    <tr>\n",
       "      <th>274</th>\n",
       "      <td>37\\n \\n \\nIndique los Consejeros o Miembros de...</td>\n",
       "      <td>[Indique los Consejeros o Miembros del rgano d...</td>\n",
       "    </tr>\n",
       "    <tr>\n",
       "      <th>275</th>\n",
       "      <td>Reunido el Consejo de Administración ABANCA Co...</td>\n",
       "      <td>[Reunido el Consejo de Administracin ABANCA Co...</td>\n",
       "    </tr>\n",
       "  </tbody>\n",
       "</table>\n",
       "<p>42864 rows × 2 columns</p>\n",
       "</div>"
      ],
      "text/plain": [
       "                                                                      text  \\\n",
       "bank          year page                                                      \n",
       "DEUTSCHE_BANK 2009 1     \\n\\n\\n\\n\\n\\n\\n\\n\\n\\n\\n\\n\\n\\n\\n\\n\\n\\n\\n\\n\\n\\n\\n...   \n",
       "                   2     \\n\\n\\n\\n\\n\\n\\n\\n\\n\\n\\n\\n\\n\\n\\n\\n\\n\\n\\n\\n\\n\\n\\n...   \n",
       "                   3     \\n\\n\\n\\n\\n\\n\\n\\n\\n\\n\\n\\n\\n\\n\\n\\n\\n\\n\\n\\n\\n\\n\\n...   \n",
       "                   4     \\n\\n\\n\\n\\n\\n\\n\\n\\n\\n\\n\\n\\n\\n\\n\\n\\n\\n\\n\\n\\n\\n\\n...   \n",
       "                   5     \\n\\n\\n\\n\\n\\n\\n\\n\\n\\n\\n\\n\\n\\n\\n\\n\\n\\n\\n\\n\\n\\n\\n...   \n",
       "...                                                                    ...   \n",
       "ABANCA        2014 271   34\\n \\n \\nLa entidad también podrá indicar si ...   \n",
       "                   272   35\\n \\n \\n \\n-\\n \\nApartados B.1 y B.2: el quó...   \n",
       "                   273   36\\n \\n \\nparticipadas o a alguna de sus Comis...   \n",
       "                   274   37\\n \\n \\nIndique los Consejeros o Miembros de...   \n",
       "                   275   Reunido el Consejo de Administración ABANCA Co...   \n",
       "\n",
       "                                                                scentences  \n",
       "bank          year page                                                     \n",
       "DEUTSCHE_BANK 2009 1                                                    []  \n",
       "                   2          [ Draft for theManagement BoardStand xx, xx]  \n",
       "                   3                                                    []  \n",
       "                   4                                                    []  \n",
       "                   5                                                    []  \n",
       "...                                                                    ...  \n",
       "ABANCA        2014 271   [La entidad tambin podr indicar si se ha adher...  \n",
       "                   272   [Apartados B,  y B,  el qurum de constitucin d...  \n",
       "                   273   [participadas o a alguna de sus Comisiones de ...  \n",
       "                   274   [Indique los Consejeros o Miembros del rgano d...  \n",
       "                   275   [Reunido el Consejo de Administracin ABANCA Co...  \n",
       "\n",
       "[42864 rows x 2 columns]"
      ]
     },
     "execution_count": 64,
     "metadata": {},
     "output_type": "execute_result"
    }
   ],
   "source": [
    "df_data['scentences'] = df_data['text'].progress_apply(lambda x: clean_text(x))\n",
    "df_data = df_data.dropna()\n",
    "df_data"
   ]
  },
  {
   "cell_type": "code",
   "execution_count": 65,
   "id": "09517130",
   "metadata": {},
   "outputs": [],
   "source": [
    "# all_text = df_data.dropna().clean_text.to_numpy()\n",
    "# all_text[1000:1001]"
   ]
  },
  {
   "cell_type": "code",
   "execution_count": 66,
   "id": "46481d44",
   "metadata": {},
   "outputs": [],
   "source": [
    "df_scentence = df_data.explode('scentences').dropna()\n",
    "df_scentence['scentence'] = df_scentence.groupby(df_scentence.index).rank('max')['scentences']\n",
    "df_scentence['scentence'] = df_scentence['scentence'].astype('int')\n",
    "df_scentence.set_index('scentence', append=True, inplace=True)"
   ]
  },
  {
   "cell_type": "code",
   "execution_count": 67,
   "id": "f8381a74",
   "metadata": {},
   "outputs": [
    {
     "data": {
      "text/html": [
       "<div>\n",
       "<style scoped>\n",
       "    .dataframe tbody tr th:only-of-type {\n",
       "        vertical-align: middle;\n",
       "    }\n",
       "\n",
       "    .dataframe tbody tr th {\n",
       "        vertical-align: top;\n",
       "    }\n",
       "\n",
       "    .dataframe thead th {\n",
       "        text-align: right;\n",
       "    }\n",
       "</style>\n",
       "<table border=\"1\" class=\"dataframe\">\n",
       "  <thead>\n",
       "    <tr style=\"text-align: right;\">\n",
       "      <th></th>\n",
       "      <th></th>\n",
       "      <th></th>\n",
       "      <th></th>\n",
       "      <th>text</th>\n",
       "      <th>scentences</th>\n",
       "    </tr>\n",
       "    <tr>\n",
       "      <th>bank</th>\n",
       "      <th>year</th>\n",
       "      <th>page</th>\n",
       "      <th>scentence</th>\n",
       "      <th></th>\n",
       "      <th></th>\n",
       "    </tr>\n",
       "  </thead>\n",
       "  <tbody>\n",
       "    <tr>\n",
       "      <th rowspan=\"5\" valign=\"top\">DEUTSCHE_BANK</th>\n",
       "      <th rowspan=\"5\" valign=\"top\">2009</th>\n",
       "      <th rowspan=\"2\" valign=\"top\">2</th>\n",
       "      <th>1</th>\n",
       "      <td>\\n\\n\\n\\n\\n\\n\\n\\n\\n\\n\\n\\n\\n\\n\\n\\n\\n\\n\\n\\n\\n\\n\\n...</td>\n",
       "      <td>Draft for theManagement BoardStand xx</td>\n",
       "    </tr>\n",
       "    <tr>\n",
       "      <th>2</th>\n",
       "      <td>\\n\\n\\n\\n\\n\\n\\n\\n\\n\\n\\n\\n\\n\\n\\n\\n\\n\\n\\n\\n\\n\\n\\n...</td>\n",
       "      <td>xx</td>\n",
       "    </tr>\n",
       "    <tr>\n",
       "      <th>51</th>\n",
       "      <th>1</th>\n",
       "      <td>\\n\\n\\n˜ ˚\\n\\n\\n\\n\\n\\n\\n\\n\\n\\n\\n\\n\\n\\n\\n\\n\\n\\n\\...</td>\n",
       "      <td></td>\n",
       "    </tr>\n",
       "    <tr>\n",
       "      <th>75</th>\n",
       "      <th>1</th>\n",
       "      <td>\\n\\n\\n\\n\\n\\n\\n\\n\\n\\n\\n\\n\\n\\n\\n\\n\\n\\n\\n\\n\\n\\n\\n...</td>\n",
       "      <td>FSCCOC</td>\n",
       "    </tr>\n",
       "    <tr>\n",
       "      <th>79</th>\n",
       "      <th>1</th>\n",
       "      <td>\\n\\n\\n\\n\\n\\n\\n\\n\\n\\n\\n\\n\\n\\n\\n\\n\\n\\n\\n\\n\\n\\n\\n...</td>\n",
       "      <td>Draft for theManagement BoardStand xx</td>\n",
       "    </tr>\n",
       "  </tbody>\n",
       "</table>\n",
       "</div>"
      ],
      "text/plain": [
       "                                                                                text  \\\n",
       "bank          year page scentence                                                      \n",
       "DEUTSCHE_BANK 2009 2    1          \\n\\n\\n\\n\\n\\n\\n\\n\\n\\n\\n\\n\\n\\n\\n\\n\\n\\n\\n\\n\\n\\n\\n...   \n",
       "                        2          \\n\\n\\n\\n\\n\\n\\n\\n\\n\\n\\n\\n\\n\\n\\n\\n\\n\\n\\n\\n\\n\\n\\n...   \n",
       "                   51   1          \\n\\n\\n˜ ˚\\n\\n\\n\\n\\n\\n\\n\\n\\n\\n\\n\\n\\n\\n\\n\\n\\n\\n\\...   \n",
       "                   75   1          \\n\\n\\n\\n\\n\\n\\n\\n\\n\\n\\n\\n\\n\\n\\n\\n\\n\\n\\n\\n\\n\\n\\n...   \n",
       "                   79   1          \\n\\n\\n\\n\\n\\n\\n\\n\\n\\n\\n\\n\\n\\n\\n\\n\\n\\n\\n\\n\\n\\n\\n...   \n",
       "\n",
       "                                                               scentences  \n",
       "bank          year page scentence                                          \n",
       "DEUTSCHE_BANK 2009 2    1           Draft for theManagement BoardStand xx  \n",
       "                        2                                              xx  \n",
       "                   51   1                                                  \n",
       "                   75   1                                          FSCCOC  \n",
       "                   79   1           Draft for theManagement BoardStand xx  "
      ]
     },
     "execution_count": 67,
     "metadata": {},
     "output_type": "execute_result"
    }
   ],
   "source": [
    "df_scentence.head()"
   ]
  },
  {
   "cell_type": "markdown",
   "id": "b451f2b3",
   "metadata": {},
   "source": [
    "## Filtramos donde haya 10 palabras o más:"
   ]
  },
  {
   "cell_type": "code",
   "execution_count": 68,
   "id": "f33f5406",
   "metadata": {},
   "outputs": [],
   "source": [
    "n_words = 10"
   ]
  },
  {
   "cell_type": "code",
   "execution_count": 69,
   "id": "ff29421a",
   "metadata": {},
   "outputs": [],
   "source": [
    "df_scentence['length'] = df_scentence['scentences'].apply(lambda x: len(x.strip().split(' ')))"
   ]
  },
  {
   "cell_type": "code",
   "execution_count": 73,
   "id": "8f62c9ba",
   "metadata": {},
   "outputs": [],
   "source": [
    "tensor_limit = 512\n",
    "dataset = df_scentence[(df_scentence.length >= n_words) & (df_scentence.length <= tensor_limit)]"
   ]
  },
  {
   "cell_type": "code",
   "execution_count": 79,
   "id": "c01cc8ec",
   "metadata": {},
   "outputs": [
    {
     "data": {
      "text/html": [
       "<div>\n",
       "<style scoped>\n",
       "    .dataframe tbody tr th:only-of-type {\n",
       "        vertical-align: middle;\n",
       "    }\n",
       "\n",
       "    .dataframe tbody tr th {\n",
       "        vertical-align: top;\n",
       "    }\n",
       "\n",
       "    .dataframe thead th {\n",
       "        text-align: right;\n",
       "    }\n",
       "</style>\n",
       "<table border=\"1\" class=\"dataframe\">\n",
       "  <thead>\n",
       "    <tr style=\"text-align: right;\">\n",
       "      <th></th>\n",
       "      <th></th>\n",
       "      <th></th>\n",
       "      <th></th>\n",
       "      <th>scentences</th>\n",
       "      <th>length</th>\n",
       "    </tr>\n",
       "    <tr>\n",
       "      <th>bank</th>\n",
       "      <th>year</th>\n",
       "      <th>page</th>\n",
       "      <th>scentence</th>\n",
       "      <th></th>\n",
       "      <th></th>\n",
       "    </tr>\n",
       "  </thead>\n",
       "  <tbody>\n",
       "    <tr>\n",
       "      <th rowspan=\"5\" valign=\"top\">DEUTSCHE_BANK</th>\n",
       "      <th rowspan=\"5\" valign=\"top\">2009</th>\n",
       "      <th rowspan=\"5\" valign=\"top\">82</th>\n",
       "      <th>47</th>\n",
       "      <td>The Group at a Glance We calculate this adjust...</td>\n",
       "      <td>29</td>\n",
       "    </tr>\n",
       "    <tr>\n",
       "      <th>41</th>\n",
       "      <td>We refer to this adjusted measure as our Pret...</td>\n",
       "      <td>14</td>\n",
       "    </tr>\n",
       "    <tr>\n",
       "      <th>26</th>\n",
       "      <td>However this is not a measure of performance ...</td>\n",
       "      <td>31</td>\n",
       "    </tr>\n",
       "    <tr>\n",
       "      <th>36</th>\n",
       "      <td>The item for which w e adjust the average sha...</td>\n",
       "      <td>60</td>\n",
       "    </tr>\n",
       "    <tr>\n",
       "      <th>35</th>\n",
       "      <td>The dividend payment is paid once a year foll...</td>\n",
       "      <td>17</td>\n",
       "    </tr>\n",
       "    <tr>\n",
       "      <th>...</th>\n",
       "      <th>...</th>\n",
       "      <th>...</th>\n",
       "      <th>...</th>\n",
       "      <td>...</td>\n",
       "      <td>...</td>\n",
       "    </tr>\n",
       "    <tr>\n",
       "      <th rowspan=\"5\" valign=\"top\">ABANCA</th>\n",
       "      <th rowspan=\"5\" valign=\"top\">2014</th>\n",
       "      <th rowspan=\"5\" valign=\"top\">275</th>\n",
       "      <th>14</th>\n",
       "      <td>el de febrero de en sus oficinas de Oviedo As...</td>\n",
       "      <td>143</td>\n",
       "    </tr>\n",
       "    <tr>\n",
       "      <th>12</th>\n",
       "      <td>Todos los documentos han sido visados por el ...</td>\n",
       "      <td>37</td>\n",
       "    </tr>\n",
       "    <tr>\n",
       "      <th>4</th>\n",
       "      <td>Hasta donde alcanza nuestro conocimiento las ...</td>\n",
       "      <td>46</td>\n",
       "    </tr>\n",
       "    <tr>\n",
       "      <th>1</th>\n",
       "      <td>Asimismo el Informe de G estin incluye un anl...</td>\n",
       "      <td>21</td>\n",
       "    </tr>\n",
       "    <tr>\n",
       "      <th>15</th>\n",
       "      <td>junto con la descripcin de los principales ri...</td>\n",
       "      <td>15</td>\n",
       "    </tr>\n",
       "  </tbody>\n",
       "</table>\n",
       "<p>424900 rows × 2 columns</p>\n",
       "</div>"
      ],
      "text/plain": [
       "                                                                          scentences  \\\n",
       "bank          year page scentence                                                      \n",
       "DEUTSCHE_BANK 2009 82   47         The Group at a Glance We calculate this adjust...   \n",
       "                        41          We refer to this adjusted measure as our Pret...   \n",
       "                        26          However this is not a measure of performance ...   \n",
       "                        36          The item for which w e adjust the average sha...   \n",
       "                        35          The dividend payment is paid once a year foll...   \n",
       "...                                                                              ...   \n",
       "ABANCA        2014 275  14          el de febrero de en sus oficinas de Oviedo As...   \n",
       "                        12          Todos los documentos han sido visados por el ...   \n",
       "                        4           Hasta donde alcanza nuestro conocimiento las ...   \n",
       "                        1           Asimismo el Informe de G estin incluye un anl...   \n",
       "                        15          junto con la descripcin de los principales ri...   \n",
       "\n",
       "                                   length  \n",
       "bank          year page scentence          \n",
       "DEUTSCHE_BANK 2009 82   47             29  \n",
       "                        41             14  \n",
       "                        26             31  \n",
       "                        36             60  \n",
       "                        35             17  \n",
       "...                                   ...  \n",
       "ABANCA        2014 275  14            143  \n",
       "                        12             37  \n",
       "                        4              46  \n",
       "                        1              21  \n",
       "                        15             15  \n",
       "\n",
       "[424900 rows x 2 columns]"
      ]
     },
     "execution_count": 79,
     "metadata": {},
     "output_type": "execute_result"
    }
   ],
   "source": [
    "dataset_sc = dataset.drop(columns=['text'])\n",
    "dataset_sc"
   ]
  },
  {
   "cell_type": "markdown",
   "id": "1e0c1e11",
   "metadata": {},
   "source": [
    "## Save Checkpoint II"
   ]
  },
  {
   "cell_type": "code",
   "execution_count": 80,
   "id": "8e8fb6f9",
   "metadata": {},
   "outputs": [],
   "source": [
    "dataset_sc.to_parquet(raw_scentences)"
   ]
  },
  {
   "cell_type": "code",
   "execution_count": 6,
   "id": "3fc68e17",
   "metadata": {},
   "outputs": [],
   "source": [
    "dataset = pd.read_parquet(raw_scentences)"
   ]
  },
  {
   "cell_type": "markdown",
   "id": "889a2263",
   "metadata": {},
   "source": [
    "# Sentiment Analysis"
   ]
  },
  {
   "cell_type": "code",
   "execution_count": 9,
   "id": "b410dbe8",
   "metadata": {},
   "outputs": [
    {
     "data": {
      "application/vnd.jupyter.widget-view+json": {
       "model_id": "81e12b8f195748bbb579cc8d80d18daa",
       "version_major": 2,
       "version_minor": 0
      },
      "text/plain": [
       "Downloading:   0%|          | 0.00/333 [00:00<?, ?B/s]"
      ]
     },
     "metadata": {},
     "output_type": "display_data"
    },
    {
     "data": {
      "application/vnd.jupyter.widget-view+json": {
       "model_id": "acfea27c39034e6482b02ba682c3d506",
       "version_major": 2,
       "version_minor": 0
      },
      "text/plain": [
       "Downloading:   0%|          | 0.00/780k [00:00<?, ?B/s]"
      ]
     },
     "metadata": {},
     "output_type": "display_data"
    },
    {
     "data": {
      "application/vnd.jupyter.widget-view+json": {
       "model_id": "2a9f6f519dbe4dde913c6ddcc5d081f5",
       "version_major": 2,
       "version_minor": 0
      },
      "text/plain": [
       "Downloading:   0%|          | 0.00/446k [00:00<?, ?B/s]"
      ]
     },
     "metadata": {},
     "output_type": "display_data"
    },
    {
     "data": {
      "application/vnd.jupyter.widget-view+json": {
       "model_id": "558da5048c944d91847496f269fedcd5",
       "version_major": 2,
       "version_minor": 0
      },
      "text/plain": [
       "Downloading:   0%|          | 0.00/1.29M [00:00<?, ?B/s]"
      ]
     },
     "metadata": {},
     "output_type": "display_data"
    },
    {
     "data": {
      "application/vnd.jupyter.widget-view+json": {
       "model_id": "58c78fcc11424bda8a8bdc657b1da710",
       "version_major": 2,
       "version_minor": 0
      },
      "text/plain": [
       "Downloading:   0%|          | 0.00/239 [00:00<?, ?B/s]"
      ]
     },
     "metadata": {},
     "output_type": "display_data"
    },
    {
     "data": {
      "application/vnd.jupyter.widget-view+json": {
       "model_id": "6992081eb1c04b2f9c0e284bb165ee2f",
       "version_major": 2,
       "version_minor": 0
      },
      "text/plain": [
       "Downloading:   0%|          | 0.00/933 [00:00<?, ?B/s]"
      ]
     },
     "metadata": {},
     "output_type": "display_data"
    },
    {
     "data": {
      "application/vnd.jupyter.widget-view+json": {
       "model_id": "0abdda3e973a4111afff5ba5befe99ef",
       "version_major": 2,
       "version_minor": 0
      },
      "text/plain": [
       "Downloading:   0%|          | 0.00/313M [00:00<?, ?B/s]"
      ]
     },
     "metadata": {},
     "output_type": "display_data"
    }
   ],
   "source": [
    "from transformers import AutoTokenizer, AutoModelForSequenceClassification\n",
    "\n",
    "tokenizer = AutoTokenizer.from_pretrained(\"mrm8488/distilroberta-finetuned-financial-news-sentiment-analysis\")\n",
    "\n",
    "model = AutoModelForSequenceClassification.from_pretrained(\"mrm8488/distilroberta-finetuned-financial-news-sentiment-analysis\")"
   ]
  },
  {
   "cell_type": "code",
   "execution_count": 83,
   "id": "69f8802c",
   "metadata": {},
   "outputs": [],
   "source": [
    "#inputs = tokenizer(\"The stock market crashed\", return_tensors=\"pt\")[\"input_ids\"]"
   ]
  },
  {
   "cell_type": "code",
   "execution_count": 84,
   "id": "8082351b",
   "metadata": {},
   "outputs": [],
   "source": [
    "#inputs[:,:tensor_limit]"
   ]
  },
  {
   "cell_type": "code",
   "execution_count": 85,
   "id": "693dd025",
   "metadata": {
    "scrolled": true
   },
   "outputs": [],
   "source": [
    "#outputs = model(inputs)"
   ]
  },
  {
   "cell_type": "code",
   "execution_count": 86,
   "id": "ac26796a",
   "metadata": {},
   "outputs": [],
   "source": [
    "#logits = outputs[0]"
   ]
  },
  {
   "cell_type": "code",
   "execution_count": 87,
   "id": "b50c2383",
   "metadata": {},
   "outputs": [],
   "source": [
    "# sentiment_score = pd.Series(logits[:, 0] - logits[:, 1])\n",
    "# predictions = np.squeeze(np.argmax(logits, axis=1))"
   ]
  },
  {
   "cell_type": "code",
   "execution_count": 10,
   "id": "d53c37b1",
   "metadata": {},
   "outputs": [],
   "source": [
    "tensor_limit = 512\n",
    "\n",
    "def softmax(x):\n",
    "    \"\"\"Compute softmax values for each sets of scores in x.\"\"\"\n",
    "    e_x = np.exp(x - np.max(x, axis=1)[:, None])\n",
    "    return e_x / np.sum(e_x, axis=1)[:, None]\n",
    "\n",
    "def tokenizePhrases(text_payload):\n",
    "    return tokenizer(text_payload, return_tensors=\"pt\")[\"input_ids\"][:,:tensor_limit]\n",
    "\n",
    "def sentimentAnalysis(inputs):\n",
    "    return model(inputs).logits\n",
    "\n",
    "def softmaxResult(logits):\n",
    "    return softmax(np.array(logits.detach()))[0]\n",
    "\n",
    "def sentimentAnalysis_full(text_payload):\n",
    "    inputs = tokenizer(text_payload, return_tensors=\"pt\")[\"input_ids\"][:,:tensor_limit]\n",
    "    logits = model(inputs).logits\n",
    "    return softmax(np.array(logits.detach()))[0]"
   ]
  },
  {
   "cell_type": "markdown",
   "id": "d7d00bfa",
   "metadata": {},
   "source": [
    "## Análisis de sentimiento\n",
    "Comprobamos el tiempo de ejecución, con y sin la paralelización del proceso."
   ]
  },
  {
   "cell_type": "code",
   "execution_count": 118,
   "id": "e1312e21",
   "metadata": {},
   "outputs": [],
   "source": [
    "# from pandarallel import pandarallel\n",
    "\n",
    "# pandarallel.initialize(progress_bar=True)"
   ]
  },
  {
   "cell_type": "code",
   "execution_count": 120,
   "id": "3e8bf659",
   "metadata": {},
   "outputs": [],
   "source": [
    "# import os\n",
    "# os.environ[\"TOKENIZERS_PARALLELISM\"] = \"false\""
   ]
  },
  {
   "cell_type": "code",
   "execution_count": 11,
   "id": "b3fbb9e6",
   "metadata": {},
   "outputs": [
    {
     "name": "stderr",
     "output_type": "stream",
     "text": [
      " 31%|██████████████████████                                                  | 130442/424900 [45:28<1:32:47, 52.89it/s]Token indices sequence length is longer than the specified maximum sequence length for this model (601 > 512). Running this sequence through the model will result in indexing errors\n",
      "100%|████████████████████████████████████████████████████████████████████████| 424900/424900 [2:35:30<00:00, 45.54it/s]\n"
     ]
    }
   ],
   "source": [
    "start_sentiment_time = time.time()\n",
    "dataset['sentiment'] = dataset.scentences.progress_apply(lambda x: sentimentAnalysis_full(x))\n",
    "                                        #.parallel_apply(lambda x: sentimentAnalysis(x))\n",
    "                                        #.progress_apply(lambda x: sentimentAnalysis(x))\n",
    "# dataset['sentiment'] = dataset.sentiment.progress_apply(lambda x: sentimentAnalysis(x))\n",
    "# dataset['sentiment'] = dataset.sentiment.progress_apply(lambda x: softmaxResult(x))\n",
    "        \n",
    "end_sentiment_time = time.time()"
   ]
  },
  {
   "cell_type": "markdown",
   "id": "37a35d21",
   "metadata": {},
   "source": [
    "Tiempo de ejecución con un solo Core de la CPU: `7h:12m:48s`, `16.28it/s`\n",
    "\n",
    "Tiempo de ejecución con paralelización de la CPU: `2h:30m:50s`, `50.82it/s`"
   ]
  },
  {
   "cell_type": "code",
   "execution_count": 16,
   "id": "d5240274",
   "metadata": {},
   "outputs": [
    {
     "name": "stdout",
     "output_type": "stream",
     "text": [
      "--- Tiempo de ejecución: \n",
      "\t9330 segundos\n",
      "\t155.5 minutos\n"
     ]
    }
   ],
   "source": [
    "total_sentiment_time = end_sentiment_time - start_sentiment_time\n",
    "\n",
    "print(f\"--- Tiempo de ejecución: \\n\\t{round(total_sentiment_time)} segundos\\n\\t{round(total_sentiment_time/60,1)} minutos\")"
   ]
  },
  {
   "cell_type": "code",
   "execution_count": 90,
   "id": "e7ba423c",
   "metadata": {},
   "outputs": [],
   "source": [
    "#dataset.to_csv(data_sentiment)"
   ]
  },
  {
   "cell_type": "code",
   "execution_count": 13,
   "id": "a543de21",
   "metadata": {},
   "outputs": [
    {
     "name": "stderr",
     "output_type": "stream",
     "text": [
      "100%|██████████████████████████████████████████████████████████████████████| 424900/424900 [00:00<00:00, 986196.57it/s]\n",
      "100%|██████████████████████████████████████████████████████████████████████| 424900/424900 [00:00<00:00, 986254.97it/s]\n",
      "100%|██████████████████████████████████████████████████████████████████████| 424900/424900 [00:00<00:00, 995358.63it/s]\n"
     ]
    }
   ],
   "source": [
    "dataset['negative'] = dataset['sentiment'].progress_apply(lambda x: x[0])\n",
    "dataset['neutral']  = dataset['sentiment'].progress_apply(lambda x: x[1])\n",
    "dataset['positive'] = dataset['sentiment'].progress_apply(lambda x: x[2])"
   ]
  },
  {
   "cell_type": "code",
   "execution_count": 14,
   "id": "3897e6d1",
   "metadata": {},
   "outputs": [],
   "source": [
    "df_export = dataset.drop(columns='sentiment')"
   ]
  },
  {
   "cell_type": "code",
   "execution_count": 15,
   "id": "0b70aa54",
   "metadata": {},
   "outputs": [],
   "source": [
    "df_export.to_parquet(data_sentiment)"
   ]
  },
  {
   "cell_type": "code",
   "execution_count": null,
   "id": "39b53296",
   "metadata": {},
   "outputs": [],
   "source": []
  }
 ],
 "metadata": {
  "kernelspec": {
   "display_name": "Python 3 (ipykernel)",
   "language": "python",
   "name": "python3"
  },
  "language_info": {
   "codemirror_mode": {
    "name": "ipython",
    "version": 3
   },
   "file_extension": ".py",
   "mimetype": "text/x-python",
   "name": "python",
   "nbconvert_exporter": "python",
   "pygments_lexer": "ipython3",
   "version": "3.8.12"
  }
 },
 "nbformat": 4,
 "nbformat_minor": 5
}
