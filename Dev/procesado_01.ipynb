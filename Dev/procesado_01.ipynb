{
 "cells": [
  {
   "cell_type": "code",
   "execution_count": 1,
   "id": "1bd34aeb",
   "metadata": {},
   "outputs": [],
   "source": [
    "import numpy as np\n",
    "import pandas as pd\n",
    "import PyPDF2\n",
    "import torch\n",
    "import time\n",
    "import googletrans as gt\n",
    "from tqdm import tqdm"
   ]
  },
  {
   "cell_type": "code",
   "execution_count": 2,
   "id": "1a0289a3",
   "metadata": {},
   "outputs": [],
   "source": [
    "import os"
   ]
  },
  {
   "cell_type": "code",
   "execution_count": 3,
   "id": "d9cc3945",
   "metadata": {},
   "outputs": [],
   "source": [
    "tqdm.pandas()"
   ]
  },
  {
   "cell_type": "markdown",
   "id": "077790c7",
   "metadata": {},
   "source": [
    "# Paths"
   ]
  },
  {
   "cell_type": "code",
   "execution_count": 4,
   "id": "2bd22472",
   "metadata": {},
   "outputs": [],
   "source": [
    "datos             = '../Data/RAW/'\n",
    "datos_es          = '../Data/RAW_ES/'\n",
    "raw_pages         = '../Data/PREP/raw_pages.parquet'\n",
    "raw_sentences     = '../Data/PREP/sentences.parquet'\n",
    "raw_en_sentences  = '../Data/PREP/sentences_en.parquet'\n",
    "raw_es_sentences  = '../Data/PREP/sentences_es.parquet'\n",
    "data_sentiment    = '../Data/PREP/sentiment.parquet'\n",
    "data_sent_full    = '../Data/PREP/sentiment_full.parquet'"
   ]
  },
  {
   "cell_type": "code",
   "execution_count": 5,
   "id": "dc2a2ff8",
   "metadata": {},
   "outputs": [],
   "source": [
    "datos_new          = '../Data/RAW_NEW/'\n",
    "raw_new_sentences  = '../Data/PREP/sentences_new.parquet'\n",
    "data_sent_new      = '../Data/PREP/sentiment_new.parquet'"
   ]
  },
  {
   "cell_type": "markdown",
   "id": "409d2398",
   "metadata": {},
   "source": [
    "# Datos en crudo"
   ]
  },
  {
   "cell_type": "markdown",
   "id": "87055294",
   "metadata": {},
   "source": [
    "### New Data"
   ]
  },
  {
   "cell_type": "code",
   "execution_count": 6,
   "id": "582c1035",
   "metadata": {},
   "outputs": [],
   "source": [
    "pdf_paths_new = []\n",
    "\n",
    "bancos_new = os.listdir(datos_new)\n",
    "\n",
    "for b in bancos_new:\n",
    "    pdfs = []\n",
    "    if b != '.DS_Store':\n",
    "        pdfs = os.listdir(datos_new+b)\n",
    "        \n",
    "    for pdf in pdfs:\n",
    "        if pdf != '.DS_Store':\n",
    "            pdf_paths_new.append(datos_new+b+'/'+pdf)"
   ]
  },
  {
   "cell_type": "code",
   "execution_count": 7,
   "id": "bb8737a8",
   "metadata": {},
   "outputs": [
    {
     "data": {
      "text/plain": [
       "0"
      ]
     },
     "execution_count": 7,
     "metadata": {},
     "output_type": "execute_result"
    }
   ],
   "source": [
    "len(pdf_paths_new)"
   ]
  },
  {
   "cell_type": "markdown",
   "id": "7f08789d",
   "metadata": {},
   "source": [
    "### Español"
   ]
  },
  {
   "cell_type": "code",
   "execution_count": 8,
   "id": "e938b52c",
   "metadata": {},
   "outputs": [
    {
     "name": "stdout",
     "output_type": "stream",
     "text": [
      "3\n"
     ]
    }
   ],
   "source": [
    "bancos_es = os.listdir(datos_es)\n",
    "print(len(bancos_es))"
   ]
  },
  {
   "cell_type": "code",
   "execution_count": 9,
   "id": "7d0eaeee",
   "metadata": {},
   "outputs": [],
   "source": [
    "pdf_paths_es = []\n",
    "\n",
    "for b in bancos_es:\n",
    "    pdfs = []\n",
    "    if b != '.DS_Store':\n",
    "        pdfs = os.listdir(datos_es+b)\n",
    "        \n",
    "    for pdf in pdfs:\n",
    "        if pdf != '.DS_Store':\n",
    "            pdf_paths_es.append(datos_es+b+'/'+pdf)"
   ]
  },
  {
   "cell_type": "code",
   "execution_count": 10,
   "id": "cf67154e",
   "metadata": {},
   "outputs": [
    {
     "data": {
      "text/plain": [
       "14"
      ]
     },
     "execution_count": 10,
     "metadata": {},
     "output_type": "execute_result"
    }
   ],
   "source": [
    "len(pdf_paths_es)"
   ]
  },
  {
   "cell_type": "markdown",
   "id": "eeaea638",
   "metadata": {},
   "source": [
    "### Inglés"
   ]
  },
  {
   "cell_type": "code",
   "execution_count": 11,
   "id": "b7e34ae6",
   "metadata": {},
   "outputs": [
    {
     "name": "stdout",
     "output_type": "stream",
     "text": [
      "26\n"
     ]
    }
   ],
   "source": [
    "bancos = os.listdir(datos)\n",
    "print(len(bancos))"
   ]
  },
  {
   "cell_type": "code",
   "execution_count": 12,
   "id": "f241f04d",
   "metadata": {},
   "outputs": [],
   "source": [
    "pdf_paths = []\n",
    "\n",
    "for b in bancos:\n",
    "    pdfs = []\n",
    "    if b != '.DS_Store':\n",
    "        pdfs = os.listdir(datos+b)\n",
    "        \n",
    "    for pdf in pdfs:\n",
    "        if pdf != '.DS_Store':\n",
    "            pdf_paths.append(datos+b+'/'+pdf)"
   ]
  },
  {
   "cell_type": "code",
   "execution_count": 13,
   "id": "2bf58205",
   "metadata": {},
   "outputs": [
    {
     "data": {
      "text/plain": [
       "['../Data/RAW/UNICREDIT/Annual-Reports-and-Accounts-2020.pdf',\n",
       " '../Data/RAW/UNICREDIT/Annual-Reports-and-Accounts-2021.pdf',\n",
       " '../Data/RAW/WGZ_BANK/WGZ_BANK_Annual-report-2013.pdf',\n",
       " '../Data/RAW/WGZ_BANK/WGZ_BANK_Annual-report-2014.pdf',\n",
       " '../Data/RAW/WGZ_BANK/WGZ_BANK_Annual-report-2015.pdf']"
      ]
     },
     "execution_count": 13,
     "metadata": {},
     "output_type": "execute_result"
    }
   ],
   "source": [
    "pdf_paths[-5:]"
   ]
  },
  {
   "cell_type": "code",
   "execution_count": 14,
   "id": "8a2286f6",
   "metadata": {},
   "outputs": [
    {
     "name": "stdout",
     "output_type": "stream",
     "text": [
      "275\n"
     ]
    }
   ],
   "source": [
    "print(len(pdf_paths))"
   ]
  },
  {
   "cell_type": "markdown",
   "id": "36bfc82b",
   "metadata": {},
   "source": [
    "## Funciones de Preprocesado"
   ]
  },
  {
   "cell_type": "code",
   "execution_count": 15,
   "id": "2458b1d3",
   "metadata": {
    "scrolled": true
   },
   "outputs": [],
   "source": [
    "def read_raw_pdf(path, verbose=0):\n",
    "    import PyPDF2\n",
    "    try:\n",
    "        pdfReader = PyPDF2.PdfFileReader(path)\n",
    "        #Discerning the number of pages will allow us to parse through all the pages.\n",
    "        num_pages = pdfReader.numPages\n",
    "    except:\n",
    "        if verbose > 1: \n",
    "            print(f'Error de lectura de PDF en: {path}')\n",
    "        raise\n",
    "    count = 0\n",
    "    pages = []\n",
    "    if verbose > 1: print(f'\\n{path.split(\"/\")[-1]}')\n",
    "    while count < num_pages:\n",
    "        if verbose > 1: print(f'Page {count+1}/{num_pages}', end=\"\\r\")\n",
    "        pageObj = pdfReader.getPage(count)\n",
    "        pages.append(pageObj.extractText())\n",
    "        count += 1\n",
    "        \n",
    "    pdf_dict = {\n",
    "        'path':path,\n",
    "        'pages':pages,\n",
    "    }\n",
    "    return pdf_dict\n",
    "\n",
    "def prepare_PDF_dataframe(raw_texts):\n",
    "    import pandas as pd\n",
    "    data = pd.DataFrame(raw_texts)\n",
    "    data['bank'] = data['path'].apply(lambda x: x.split('/')[3])\n",
    "    data['year'] = data['path'].apply(lambda x: x[-8:-4])\n",
    "    data = data.explode('pages').reset_index().reset_index()\n",
    "    data['page'] = data.groupby('index').rank('max').rename(columns={'level_0':'page'})['page']\n",
    "    data['page'] = data['page'].astype('int')\n",
    "    data = (data.drop(columns=['level_0','index','path'])\n",
    "               .set_index(['bank','year','page'])\n",
    "               .rename(columns={'pages':'text'})\n",
    "          )\n",
    "    return data\n",
    "\n",
    "def clean_text(text, esp=False):\n",
    "    import re\n",
    "    text = re.sub(r\"\\n\\n\", \".\", text)\n",
    "    text = re.sub(r\"\\n\", \" \", text)\n",
    "    text = re.sub(\":\", \" \", text)\n",
    "    text = re.sub(r\"[^a-zA-Z.\\s:ñÑáéíóúÁÉÍÓÚ]\", \"\", text)\n",
    "    text = re.sub(r' +', ' ', text)\n",
    "    text = text.strip()\n",
    "    if text == '':\n",
    "        return None\n",
    "    if esp:\n",
    "        try:\n",
    "            text=translate_ES(text)\n",
    "        except:\n",
    "            return None\n",
    "    return list(filter(None, text.split('.')))\n",
    "\n",
    "def tokenize_phrases(df_data, esp=False):\n",
    "    tqdm.pandas()\n",
    "    if esp: print('--- Realizando traducción al inglés...')\n",
    "    df_data['sentences'] = df_data['text'].progress_apply(lambda x: clean_text(x, esp=esp))\n",
    "    df_data = df_data.dropna()\n",
    "    df_sentence = df_data.explode('sentences').dropna()\n",
    "    df_sentence['sentence'] = df_sentence.groupby(df_sentence.index).rank('max')['sentences']\n",
    "    df_sentence['sentence'] = df_sentence['sentence'].astype('int')\n",
    "    df_sentence.set_index('sentence', append=True, inplace=True)\n",
    "    df_sentence.drop(columns=['text'], inplace=True)\n",
    "    return df_sentence\n",
    "\n",
    "translator = gt.Translator()\n",
    "\n",
    "def translate_ES(sentence):\n",
    "    return translator.translate(sentence, dest='en', src='es').text\n",
    "\n",
    "def process_PDFs(list_of_paths, \n",
    "                 timeit=True, \n",
    "                 verbose=0, \n",
    "                 esp=False,\n",
    "                 save_path=None,\n",
    "                 save_raw_text=None):\n",
    "    import time\n",
    "    total_times = dict()\n",
    "    if timeit: \n",
    "        print('Cronometrando lectura de PDFs...')\n",
    "        start_time = time.time()\n",
    "\n",
    "    raw_texts = []\n",
    "    for path in list_of_paths:\n",
    "        try:\n",
    "            pdf_dict = read_raw_pdf(path, verbose=verbose)\n",
    "        except:\n",
    "            continue\n",
    "        raw_texts.append(pdf_dict)\n",
    "\n",
    "    if timeit: \n",
    "        end_time = time.time()\n",
    "        total_times[\"lectura\"] = end_time - start_time\n",
    "        if verbose: print(f'--- Tiempo de lectura (s): {end_time - start_time}')\n",
    "        \n",
    "    # Textos a DataFrame:\n",
    "    if verbose: print(f'Preparando dataframe...')\n",
    "    raw_text_data = prepare_PDF_dataframe(raw_texts)\n",
    "    \n",
    "    # if timeit: \n",
    "    #     end_time = time.time()\n",
    "    #     total_times[\"creacion_dataframe\"] = end_time - total_times[\"lectura\"]\n",
    "        \n",
    "    # Guardado de texto RAW:\n",
    "    if save_raw_text: \n",
    "        raw_text_data.to_parquet(save_raw_text)\n",
    "    \n",
    "    if verbose: print(f'Tokenizando frases...')\n",
    "    df_phrases = tokenize_phrases(raw_text_data, esp=esp)\n",
    "    \n",
    "    # Guardando dataset:\n",
    "    if save_path:\n",
    "        print('Guardando dataset...')\n",
    "        df_phrases.to_parquet(save_path)\n",
    "        print('Dataset guardado!')\n",
    "    \n",
    "    return df_phrases, total_times\n",
    "\n",
    "def filter_phrases_size(df_sentence, min_words=10, tensor_limit=512):\n",
    "    df_sentence['length'] = df_sentence['sentences'].apply(lambda x: len(x.strip().split(' ')))\n",
    "    return df_sentence[(df_sentence.length >= min_words) & (df_sentence.length <= tensor_limit)]\n",
    "\n",
    "def softmax(x):\n",
    "    \"\"\"Compute softmax values for each sets of scores in x.\"\"\"\n",
    "    e_x = np.exp(x - np.max(x, axis=1)[:, None])\n",
    "    return e_x / np.sum(e_x, axis=1)[:, None]\n",
    "\n",
    "def sentimentAnalysis_full(text_payload, tokenizer, model, tensor_limit=512):\n",
    "    inputs = tokenizer(text_payload, return_tensors=\"pt\")[\"input_ids\"][:,:tensor_limit]\n",
    "    logits = model(inputs).logits\n",
    "    return softmax(np.array(logits.detach()))[0]\n",
    "\n",
    "def get_phrase_sentiment(dataset, min_words=10, tensor_limit=512, save_sentiment_path=None, timeit=True):\n",
    "    import time\n",
    "    import pandas as pd\n",
    "    from tqdm import tqdm\n",
    "    from transformers import AutoTokenizer, AutoModelForSequenceClassification\n",
    "    MODEL_PATH = \"mrm8488/distilroberta-finetuned-financial-news-sentiment-analysis\"\n",
    "    pd.options.mode.chained_assignment = None #'warn'\n",
    "    tqdm.pandas()\n",
    "    total_times = dict()\n",
    "    \n",
    "    tokenizer = AutoTokenizer.from_pretrained(MODEL_PATH)\n",
    "    model = AutoModelForSequenceClassification.from_pretrained(MODEL_PATH)\n",
    "    \n",
    "    if timeit:\n",
    "        print('Cronometrando procesado de sentiment de frases...')\n",
    "        start_sentiment_time = time.time()\n",
    "        \n",
    "    dataset = filter_phrases_size(dataset, min_words=min_words, tensor_limit=tensor_limit)\n",
    "    dataset['sentiment'] = dataset.sentences.progress_apply(\n",
    "        lambda x: sentimentAnalysis_full(x, tokenizer, model, tensor_limit=tensor_limit)\n",
    "    )\n",
    "    \n",
    "    if timeit:\n",
    "        end_sentiment_time = time.time()\n",
    "        total_times['sentiment'] = end_sentiment_time - start_sentiment_time\n",
    "    \n",
    "    dataset['negative'] = dataset['sentiment'].progress_apply(lambda x: x[0])\n",
    "    dataset['neutral']  = dataset['sentiment'].progress_apply(lambda x: x[1])\n",
    "    dataset['positive'] = dataset['sentiment'].progress_apply(lambda x: x[2])\n",
    "    df_export = dataset.drop(columns='sentiment')\n",
    "    \n",
    "    if save_sentiment_path:\n",
    "        df_export.to_parquet(save_sentiment_path)\n",
    "    \n",
    "    return df_export, total_times"
   ]
  },
  {
   "cell_type": "markdown",
   "id": "1f92b72d",
   "metadata": {},
   "source": [
    "## Proceso de lectura"
   ]
  },
  {
   "cell_type": "markdown",
   "id": "a75abdb4",
   "metadata": {},
   "source": [
    "#### Dataset Nuevo:"
   ]
  },
  {
   "cell_type": "code",
   "execution_count": 13,
   "id": "74cf3f85",
   "metadata": {},
   "outputs": [
    {
     "name": "stdout",
     "output_type": "stream",
     "text": [
      "Cronometrando lectura de PDFs...\n",
      "\n",
      "Barclays-PLC-Annual-Report-1998.pdf\n",
      "Page 1/178\r\n",
      "Barclays-PLC-Annual-Report-1999.pdf\n",
      "Page 1/185\r",
      "Page 2/185\r",
      "Page 3/185\r",
      "Page 4/185\r",
      "Page 5/185\r",
      "Page 6/185\r",
      "Page 7/185\r",
      "Page 8/185\r",
      "Page 9/185\r",
      "Page 10/185\r",
      "Page 11/185\r",
      "Page 12/185\r",
      "Page 13/185\r"
     ]
    },
    {
     "name": "stderr",
     "output_type": "stream",
     "text": [
      "PdfReadWarning: Xref table not zero-indexed. ID numbers for objects will be corrected. [pdf.py:1736]\n"
     ]
    },
    {
     "name": "stdout",
     "output_type": "stream",
     "text": [
      "Page 185/185\n",
      "Barclays-PLC-Annual-Report-2000.pdf\n",
      "Page 184/184\n",
      "Barclays-PLC-Annual-Report-2001.pdf\n",
      "Page 215/215\n",
      "Barclays-PLC-Annual-Report-2002.pdf\n",
      "Page 54/248\n",
      "Barclays-PLC-Annual-Report-2003.pdf\n",
      "Page 232/232\n",
      "Barclays-PLC-Annual-Report-2004.pdf\n",
      "Page 256/256\n",
      "Barclays-PLC-Annual-Report-2005.pdf\n",
      "Page 320/320\n",
      "Barclays-PLC-Annual-Report-2006.pdf\n",
      "Page 310/310\n",
      "Barclays-PLC-Annual-Report-2007.pdf\n",
      "Page 296/296\n",
      "Barclays-PLC-Annual-Report-2008.pdf\n",
      "Page 330/330\n",
      "Barclays-PLC-Annual-Report-2009.pdf\n",
      "Page 348/348\n",
      "Barclays-PLC-Annual-Report-2010.pdf\n",
      "Page 288/288\n",
      "Barclays-PLC-Annual-Report-2011.pdf\n",
      "Page 286/286\n",
      "Barclays-PLC-Annual-Report-2012.pdf\n",
      "Page 356/356\n",
      "Barclays-PLC-Annual-Report-2013.pdf\n",
      "Page 436/436\n",
      "Barclays-PLC-Annual-Report-2014.pdf\n",
      "Page 348/348\n",
      "Barclays-PLC-Annual-Report-2015.pdf\n",
      "Page 356/356\n",
      "Barclays-PLC-Annual-Report-2016.pdf\n",
      "Page 380/380\n",
      "Barclays-PLC-Annual-Report-2017.pdf\n",
      "Page 328/328\n",
      "Barclays-PLC-Annual-Report-2018.pdf\n",
      "Page 364/364\n",
      "Barclays-PLC-Annual-Report-2019.pdf\n",
      "Page 344/344\n",
      "Barclays-PLC-Annual-Report-2020.pdf\n",
      "Page 380/380\n",
      "Barclays-PLC-Annual-Report-2021.pdf\n",
      "Page 432/432\n",
      "CS_2007.pdf\n",
      "Page 396/396\n",
      "CS_2008.pdf\n",
      "Page 444/444\n",
      "CS_2009.pdf\n",
      "Page 496/496\n",
      "CS_2010.pdf\n",
      "Error de lectura de PDF en: ../Data/RAW_NEW/CREDIT_SUISSE/CS_2011.pdf\n",
      "Error de lectura de PDF en: ../Data/RAW_NEW/CREDIT_SUISSE/CS_2012.pdf\n",
      "Error de lectura de PDF en: ../Data/RAW_NEW/CREDIT_SUISSE/CS_2013.pdf\n",
      "Error de lectura de PDF en: ../Data/RAW_NEW/CREDIT_SUISSE/CS_2014.pdf\n",
      "Error de lectura de PDF en: ../Data/RAW_NEW/CREDIT_SUISSE/CS_2015.pdf\n",
      "Error de lectura de PDF en: ../Data/RAW_NEW/CREDIT_SUISSE/CS_2016.pdf\n",
      "Error de lectura de PDF en: ../Data/RAW_NEW/CREDIT_SUISSE/CS_2017.pdf\n",
      "Error de lectura de PDF en: ../Data/RAW_NEW/CREDIT_SUISSE/CS_2018.pdf\n",
      "Error de lectura de PDF en: ../Data/RAW_NEW/CREDIT_SUISSE/CS_2019.pdf\n",
      "\n",
      "CS_2020.pdf\n",
      "Page 466/466\n",
      "CS_2021.pdf\n",
      "Error de lectura de PDF en: ../Data/RAW_NEW/ING/Annual-Report-ING-2011.pdf\n",
      "Error de lectura de PDF en: ../Data/RAW_NEW/ING/Annual-Report-ING-2012.pdf\n",
      "Error de lectura de PDF en: ../Data/RAW_NEW/ING/Annual-Report-ING-2013.pdf\n",
      "Error de lectura de PDF en: ../Data/RAW_NEW/ING/Annual-Report-ING-2014.pdf\n",
      "Error de lectura de PDF en: ../Data/RAW_NEW/ING/Annual-Report-ING-2015.pdf\n",
      "Error de lectura de PDF en: ../Data/RAW_NEW/ING/Annual-Report-ING-2016.pdf\n",
      "Error de lectura de PDF en: ../Data/RAW_NEW/ING/Annual-Report-ING-2017.pdf\n",
      "\n",
      "Annual-Report-ING-2018.pdf\n",
      "Error de lectura de PDF en: ../Data/RAW_NEW/ING/Annual-Report-ING-2019.pdf\n",
      "Error de lectura de PDF en: ../Data/RAW_NEW/ING/Annual-Report-ING-2020.pdf\n",
      "Error de lectura de PDF en: ../Data/RAW_NEW/ING/Annual-Report-ING-2021.pdf\n",
      "\n",
      "full-annual-report-2005.pdf\n",
      "Page 272/272\n",
      "full-annual-report-2006.pdf\n",
      "Page 262/262\n",
      "full-annual-report-2007.pdf\n",
      "Page 252/252\n",
      "full-annual-report-2008.pdf\n",
      "Page 299/299\n",
      "full-annual-report-2009.pdf\n",
      "Page 390/390\n",
      "full-annual-report-2010.pdf\n",
      "Page 445/445\n",
      "full-annual-report-2011.pdf\n",
      "Page 490/490\n",
      "full-annual-report-2012.pdf\n",
      "Page 543/543\n",
      "full-annual-report-2013.pdf\n",
      "Page 564/564\n",
      "full-annual-report-2014.pdf\n",
      "Page 518/518\n",
      "full-annual-report-2015.pdf\n",
      "Page 432/432\n",
      "full-annual-report-2016.pdf\n",
      "Page 480/480\n",
      "full-annual-report-2017.pdf\n",
      "Page 419/419\n",
      "full-annual-report-2018.pdf\n",
      "Page 267/267\n",
      "full-annual-report-2019.pdf\n",
      "Page 300/300\n",
      "full-annual-report-2020.pdf\n",
      "Page 367/367\n",
      "full-annual-report-2021.pdf\n",
      "Page 219/219\n",
      "Integrated-Report-2017.pdf\n",
      "Page 29/29\n",
      "Integrated-Report-2018.pdf\n",
      "Page 56/56\n",
      "Integrated-Report-2019.pdf\n",
      "Page 68/68\n",
      "Integrated-Report-2020.pdf\n",
      "Page 76/76\n",
      "Integrated-Report-2021.pdf\n",
      "Page 39/39\n",
      "Annual-Reports-and-Accounts-2011.pdf\n",
      "Page 540/540\n",
      "Annual-Reports-and-Accounts-2012.pdf\n",
      "Page 432/432\n",
      "Annual-Reports-and-Accounts-2013.pdf\n",
      "Page 476/476\n",
      "Annual-Reports-and-Accounts-2014.pdf\n",
      "Page 528/528\n",
      "Annual-Reports-and-Accounts-2015.pdf\n",
      "Page 568/568\n",
      "Annual-Reports-and-Accounts-2016.pdf\n",
      "Page 552/552\n",
      "Annual-Reports-and-Accounts-2017.pdf\n",
      "Page 556/556\n",
      "Annual-Reports-and-Accounts-2018.pdf\n",
      "Page 796/796\n",
      "Annual-Reports-and-Accounts-2019.pdf\n",
      "Page 764/764\n",
      "Annual-Reports-and-Accounts-2020.pdf\n",
      "Page 780/780\n",
      "Annual-Reports-and-Accounts-2021.pdf\n",
      "--- Tiempo de lectura (s): 906.6693811416626\n",
      "Preparando dataframe...\n",
      "Tokenizando frases...\n"
     ]
    },
    {
     "name": "stderr",
     "output_type": "stream",
     "text": [
      "100%|██████████████████████████████████████████████████████████████████████████| 23845/23845 [00:04<00:00, 5842.47it/s]\n"
     ]
    },
    {
     "name": "stdout",
     "output_type": "stream",
     "text": [
      "Guardando dataset...\n",
      "Dataset guardado!\n"
     ]
    }
   ],
   "source": [
    "data_new, total_times_new = process_PDFs(pdf_paths_new, esp=False, verbose=2, save_path=raw_new_sentences)"
   ]
  },
  {
   "cell_type": "markdown",
   "id": "ea60949e",
   "metadata": {},
   "source": [
    "#### Dataset Español:"
   ]
  },
  {
   "cell_type": "code",
   "execution_count": 13,
   "id": "271bc678",
   "metadata": {},
   "outputs": [
    {
     "name": "stdout",
     "output_type": "stream",
     "text": [
      "Cronometrando lectura de PDFs...\n",
      "\n",
      "ABANCA_2014.pdf\n",
      "Page 275/275\n",
      "ABANCA_2015.pdf\n",
      "Page 267/267\n",
      "ABANCA_2016.pdf\n",
      "Page 223/223\n",
      "ABANCA_2017.pdf\n",
      "Page 417/417\n",
      "ABANCA_2018.pdf\n",
      "Page 499/499\n",
      "ABANCA_2019.pdf\n",
      "Error de lectura de PDF en: ../Data/RAW_ES/ES_ABANCA/ABANCA_2020.pdf\n",
      "Error de lectura de PDF en: ../Data/RAW_ES/ES_ABANCA/ABANCA_2021.pdf\n",
      "\n",
      "VALENCIA_2010.pdf\n",
      "Page 309/447\r"
     ]
    },
    {
     "name": "stderr",
     "output_type": "stream",
     "text": [
      "PdfReadWarning: Xref table not zero-indexed. ID numbers for objects will be corrected. [pdf.py:1736]\n"
     ]
    },
    {
     "name": "stdout",
     "output_type": "stream",
     "text": [
      "Page 447/447\n",
      "VALENCIA_2011.pdf\n",
      "Page 477/477\n",
      "VALENCIA_2012.pdf\n",
      "Page 454/454\n",
      "CATALUNYA_BANC_2013.pdf\n",
      "Page 204/204\n",
      "CATALUNYA_BANC_2014.pdf\n",
      "Page 197/197\n",
      "CATALUNYA_BANC_2015.pdf\n",
      "--- Tiempo de lectura (s): 154.37993121147156\n",
      "Preparando dataframe...\n",
      "Tokenizando frases...\n",
      "--- Realizando traducción al inglés...\n"
     ]
    },
    {
     "name": "stderr",
     "output_type": "stream",
     "text": [
      "100%|██████████████████████████████████████████████████████████████████████████████| 4106/4106 [40:49<00:00,  1.68it/s]\n"
     ]
    },
    {
     "name": "stdout",
     "output_type": "stream",
     "text": [
      "Guardando dataset...\n",
      "Dataset guardado!\n"
     ]
    }
   ],
   "source": [
    "data_es, total_times_es = process_PDFs(pdf_paths_es, esp=True, verbose=2, save_path=raw_es_sentences)"
   ]
  },
  {
   "cell_type": "markdown",
   "id": "3eecc82d",
   "metadata": {},
   "source": [
    "#### Dataset Inglés:"
   ]
  },
  {
   "cell_type": "code",
   "execution_count": 20,
   "id": "49ba003a",
   "metadata": {
    "scrolled": true
   },
   "outputs": [
    {
     "data": {
      "text/plain": [
       "['../Data/RAW/BANKINTER/BANKINTER_2011.pdf',\n",
       " '../Data/RAW/DEUTSCHE_BANK/Annual+Report+2008.pdf',\n",
       " '../Data/RAW/COMMERZBANK/COMMERZBANK_2010.pdf',\n",
       " '../Data/RAW/DEUTSCHE_BANK/Annual+Report+2018.pdf',\n",
       " '../Data/RAW/BARCLAYS/Barclays-PLC-Annual-Report-2013.pdf']"
      ]
     },
     "execution_count": 20,
     "metadata": {},
     "output_type": "execute_result"
    }
   ],
   "source": [
    "import random"
   ]
  },
  {
   "cell_type": "code",
   "execution_count": 41,
   "id": "ac2850f5",
   "metadata": {},
   "outputs": [
    {
     "name": "stdout",
     "output_type": "stream",
     "text": [
      "Cronometrando lectura de PDFs...\n",
      "\n",
      "COMMERZBANK_2013.pdf\n",
      "Page 1/345\r"
     ]
    },
    {
     "name": "stderr",
     "output_type": "stream",
     "text": [
      "PdfReadWarning: Xref table not zero-indexed. ID numbers for objects will be corrected. [pdf.py:1736]\n"
     ]
    },
    {
     "name": "stdout",
     "output_type": "stream",
     "text": [
      "Page 345/345\n",
      "BNPP_2019.pdf\n",
      "Error de lectura de PDF en: ../Data/RAW/DEUTSCHE_BANK/Annual+Report+2020.pdf\n",
      "\n",
      "POPULAR_2015.pdf\n",
      "Page 67/67\n",
      "GRUPCAIXABANK_2016.pdf\n",
      "Page 120/120\n",
      "BNPP_2020.pdf\n",
      "Page 41/41\n",
      "NYSE_BBVA_2015.pdf\n",
      "Page 248/248\n",
      "POPULAR_2012.pdf\n",
      "Page 95/95\n",
      "Barclays-PLC-Annual-Report-2002.pdf\n",
      "Page 54/248\n",
      "Barclays-PLC-Annual-Report-2009.pdf\n",
      "Page 348/348\n",
      "Integrated-Report-2019.pdf\n",
      "Page 68/68\n",
      "annual-report-and-accounts-2016.pdf\n",
      "--- Tiempo de lectura (s): 76.8759114742279\n",
      "Preparando dataframe...\n",
      "Tokenizando frases...\n"
     ]
    },
    {
     "name": "stderr",
     "output_type": "stream",
     "text": [
      "100%|████████████████████████████████████████████████████████████████████████████| 1652/1652 [00:00<00:00, 5267.78it/s]\n"
     ]
    },
    {
     "name": "stdout",
     "output_type": "stream",
     "text": [
      "Guardando dataset...\n",
      "Dataset guardado!\n"
     ]
    }
   ],
   "source": [
    "data_en, total_times_en = process_PDFs(random.sample(pdf_paths,12), esp=False, verbose=2, save_path=raw_en_sentences)"
   ]
  },
  {
   "cell_type": "code",
   "execution_count": 19,
   "id": "07a395dc",
   "metadata": {},
   "outputs": [
    {
     "name": "stdout",
     "output_type": "stream",
     "text": [
      "-- Tiempo de lectura de datos en ES (min):  2.572998853524526 \n",
      "-- Tiempo de lectura de datos en EN (min):  27.586885543664298\n"
     ]
    }
   ],
   "source": [
    "print('-- Tiempo de lectura de datos en ES (min): ',total_times_es['lectura']/60,'\\n' \n",
    "      '-- Tiempo de lectura de datos en EN (min): ',total_times_en['lectura']/60)"
   ]
  },
  {
   "cell_type": "code",
   "execution_count": 42,
   "id": "6863ce9e",
   "metadata": {},
   "outputs": [
    {
     "data": {
      "text/html": [
       "<div>\n",
       "<style scoped>\n",
       "    .dataframe tbody tr th:only-of-type {\n",
       "        vertical-align: middle;\n",
       "    }\n",
       "\n",
       "    .dataframe tbody tr th {\n",
       "        vertical-align: top;\n",
       "    }\n",
       "\n",
       "    .dataframe thead th {\n",
       "        text-align: right;\n",
       "    }\n",
       "</style>\n",
       "<table border=\"1\" class=\"dataframe\">\n",
       "  <thead>\n",
       "    <tr style=\"text-align: right;\">\n",
       "      <th></th>\n",
       "      <th></th>\n",
       "      <th></th>\n",
       "      <th></th>\n",
       "      <th>sentences</th>\n",
       "    </tr>\n",
       "    <tr>\n",
       "      <th>bank</th>\n",
       "      <th>year</th>\n",
       "      <th>page</th>\n",
       "      <th>sentence</th>\n",
       "      <th></th>\n",
       "    </tr>\n",
       "  </thead>\n",
       "  <tbody>\n",
       "    <tr>\n",
       "      <th rowspan=\"5\" valign=\"top\">COMMERZBANK</th>\n",
       "      <th rowspan=\"5\" valign=\"top\">2013</th>\n",
       "      <th rowspan=\"5\" valign=\"top\">1</th>\n",
       "      <th>6</th>\n",
       "      <td></td>\n",
       "    </tr>\n",
       "    <tr>\n",
       "      <th>6</th>\n",
       "      <td></td>\n",
       "    </tr>\n",
       "    <tr>\n",
       "      <th>6</th>\n",
       "      <td></td>\n",
       "    </tr>\n",
       "    <tr>\n",
       "      <th>6</th>\n",
       "      <td></td>\n",
       "    </tr>\n",
       "    <tr>\n",
       "      <th>6</th>\n",
       "      <td></td>\n",
       "    </tr>\n",
       "    <tr>\n",
       "      <th>...</th>\n",
       "      <th>...</th>\n",
       "      <th>...</th>\n",
       "      <th>...</th>\n",
       "      <td>...</td>\n",
       "    </tr>\n",
       "    <tr>\n",
       "      <th rowspan=\"5\" valign=\"top\">HSBC</th>\n",
       "      <th rowspan=\"5\" valign=\"top\">2016</th>\n",
       "      <th rowspan=\"2\" valign=\"top\">285</th>\n",
       "      <th>3</th>\n",
       "      <td>Pulps used are totally chlorinefree</td>\n",
       "    </tr>\n",
       "    <tr>\n",
       "      <th>4</th>\n",
       "      <td>The FSC logo identies products which contain ...</td>\n",
       "    </tr>\n",
       "    <tr>\n",
       "      <th rowspan=\"3\" valign=\"top\">286</th>\n",
       "      <th>1</th>\n",
       "      <td>HSBC Holdings plc Canada Square London E HQ Un...</td>\n",
       "    </tr>\n",
       "    <tr>\n",
       "      <th>3</th>\n",
       "      <td>hsbc</td>\n",
       "    </tr>\n",
       "    <tr>\n",
       "      <th>2</th>\n",
       "      <td>com</td>\n",
       "    </tr>\n",
       "  </tbody>\n",
       "</table>\n",
       "<p>59803 rows × 1 columns</p>\n",
       "</div>"
      ],
      "text/plain": [
       "                                                                        sentences\n",
       "bank        year page sentence                                                   \n",
       "COMMERZBANK 2013 1    6                                                          \n",
       "                      6                                                          \n",
       "                      6                                                          \n",
       "                      6                                                          \n",
       "                      6                                                          \n",
       "...                                                                           ...\n",
       "HSBC        2016 285  3                       Pulps used are totally chlorinefree\n",
       "                      4          The FSC logo identies products which contain ...\n",
       "                 286  1         HSBC Holdings plc Canada Square London E HQ Un...\n",
       "                      3                                                      hsbc\n",
       "                      2                                                       com\n",
       "\n",
       "[59803 rows x 1 columns]"
      ]
     },
     "execution_count": 42,
     "metadata": {},
     "output_type": "execute_result"
    }
   ],
   "source": [
    "complete_dataset = pd.concat([data_en]) #,data_es])\n",
    "complete_dataset"
   ]
  },
  {
   "cell_type": "code",
   "execution_count": 43,
   "id": "4bccaf28",
   "metadata": {},
   "outputs": [],
   "source": [
    "complete_dataset['len'] = complete_dataset.sentences.apply(lambda x: len(x.split(' ')))"
   ]
  },
  {
   "cell_type": "code",
   "execution_count": 44,
   "id": "961d1b59",
   "metadata": {},
   "outputs": [
    {
     "name": "stdout",
     "output_type": "stream",
     "text": [
      "\\begin{tabular}{lllll}\n",
      "\\toprule\n",
      "                 &      &     &     &                                          sentences \\\\\n",
      "bank & year & page & sentence &                                                    \\\\\n",
      "\\midrule\n",
      "BARCLAYS & 2009 & 23  & 101 &  loans and when with credit supply directed by ... \\\\\n",
      "                 &      & 96  & 6   &   Finally additional analysis of debt securitie... \\\\\n",
      "                 &      & 99  & 7   &   Corporate accounts that are deemed to contain... \\\\\n",
      "                 &      & 145 & 36  &  comannualreport Barclays PLC Annual Report Tab... \\\\\n",
      "                 &      & 153 & 87  &  meetings were held with our institutional shar... \\\\\n",
      "                 &      & 180 & 44  &  John Varley Robert E Diamond Jr Chris Lucas Be... \\\\\n",
      "                 &      & 217 & 13  &  Other services Fees payable for the audit of t... \\\\\n",
      "                 &      & 244 & 5   &   The Group has agreed funding contributions wh... \\\\\n",
      "BNP\\_PARIBAS & 2019 & 24  & 1   &   A MAJOR STRATEGIC ALLIANCE IN LATIN AMERICA I... \\\\\n",
      "                 &      & 32  & 21  &   These ratings which take into account stakeho... \\\\\n",
      "CAIXA & 2016 & 81  & 16  &   The restructuring cost was EUR million which ... \\\\\n",
      "                 &      & 92  & 17  &   The gross i ncome of the investments business... \\\\\n",
      "COMMERZBANK & 2013 & 62  & 25  &             This was mainly the result of a sharp  \\\\\n",
      "                 &      & 91  & 25  &   The service which is offered in conjunction w... \\\\\n",
      "                 &      & 126 & 46  &  minimum ratings establish the qualitative fram... \\\\\n",
      "                 &      & 235 & 6   &   Notes Responsibility statement by the Board o... \\\\\n",
      "HSBC & 2016 & 20  & 34  &   This was partly oset by lower revenue in Glob... \\\\\n",
      "                 &      & 163 & 7   &   The amount is disclosed on a paid basis in th... \\\\\n",
      "                 &      & 256 & 31  &   perpetual subordinated capital securities Ser... \\\\\n",
      "SOCIETE\\_GENERALE & 2019 & 24  & 16  &  Societe Generale is helping to meet the UNs Su... \\\\\n",
      "\\bottomrule\n",
      "\\end{tabular}\n",
      "\n"
     ]
    },
    {
     "name": "stderr",
     "output_type": "stream",
     "text": [
      "FutureWarning: In future versions `DataFrame.to_latex` is expected to utilise the base implementation of `Styler.to_latex` for formatting and rendering. The arguments signature may therefore change. It is recommended instead to use `DataFrame.style.to_latex` which also contains additional functionality. [2484586461.py:2]\n"
     ]
    }
   ],
   "source": [
    "print(\n",
    "    complete_dataset[complete_dataset['len'] >= 10]\n",
    "    .sample(20)['sentences']\n",
    "    .reset_index()\n",
    "    .sort_values(['bank','year','page','sentence'])\n",
    "    .set_index(['bank','year','page','sentence'])\n",
    "    .to_latex()\n",
    ")"
   ]
  },
  {
   "cell_type": "code",
   "execution_count": 27,
   "id": "eafc5c69",
   "metadata": {},
   "outputs": [],
   "source": [
    "complete_dataset.to_parquet(raw_sentences)"
   ]
  },
  {
   "cell_type": "markdown",
   "id": "27815f4d",
   "metadata": {},
   "source": [
    "## Sentiment Analysis"
   ]
  },
  {
   "cell_type": "code",
   "execution_count": 55,
   "id": "5cec8f5d",
   "metadata": {},
   "outputs": [
    {
     "name": "stdout",
     "output_type": "stream",
     "text": [
      "Cronometrando procesado de sentiment de frases...\n"
     ]
    },
    {
     "name": "stderr",
     "output_type": "stream",
     "text": [
      "  7%|████▉                                                                    | 50954/749695 [15:52<4:08:42, 46.82it/s]Token indices sequence length is longer than the specified maximum sequence length for this model (573 > 512). Running this sequence through the model will result in indexing errors\n",
      "100%|████████████████████████████████████████████████████████████████████████| 749695/749695 [4:00:17<00:00, 52.00it/s]\n",
      "100%|██████████████████████████████████████████████████████████████████████| 749695/749695 [00:00<00:00, 996269.82it/s]\n",
      "100%|██████████████████████████████████████████████████████████████████████| 749695/749695 [00:00<00:00, 998281.11it/s]\n",
      "100%|██████████████████████████████████████████████████████████████████████| 749695/749695 [00:00<00:00, 995480.69it/s]\n"
     ]
    }
   ],
   "source": [
    "df_sentiment, times = get_phrase_sentiment(complete_dataset, min_words=5, save_sentiment_path=data_sent_full, )"
   ]
  },
  {
   "cell_type": "code",
   "execution_count": 57,
   "id": "ff00a035",
   "metadata": {},
   "outputs": [
    {
     "name": "stdout",
     "output_type": "stream",
     "text": [
      "-- Tiempo de procesado de sentiment de frases (min):  240.30573924779893\n"
     ]
    }
   ],
   "source": [
    "print('-- Tiempo de procesado de sentiment de frases (min): ',times['sentiment']/60)"
   ]
  },
  {
   "cell_type": "code",
   "execution_count": 14,
   "id": "9aca16f7",
   "metadata": {},
   "outputs": [
    {
     "name": "stdout",
     "output_type": "stream",
     "text": [
      "Cronometrando procesado de sentiment de frases...\n"
     ]
    },
    {
     "name": "stderr",
     "output_type": "stream",
     "text": [
      " 12%|████████▉                                                                | 55507/452800 [18:53<3:48:51, 28.93it/s]Token indices sequence length is longer than the specified maximum sequence length for this model (515 > 512). Running this sequence through the model will result in indexing errors\n",
      "100%|████████████████████████████████████████████████████████████████████████| 452800/452800 [2:36:02<00:00, 48.36it/s]\n",
      "100%|█████████████████████████████████████████████████████████████████████| 452800/452800 [00:00<00:00, 1004738.51it/s]\n",
      "100%|█████████████████████████████████████████████████████████████████████| 452800/452800 [00:00<00:00, 1030705.95it/s]\n",
      "100%|██████████████████████████████████████████████████████████████████████| 452800/452800 [00:00<00:00, 988082.67it/s]\n"
     ]
    }
   ],
   "source": [
    "df_sentiment_new, times_new = get_phrase_sentiment(data_new, min_words=5, save_sentiment_path=data_sent_new, )"
   ]
  },
  {
   "cell_type": "code",
   "execution_count": 45,
   "id": "e24dd31d",
   "metadata": {},
   "outputs": [],
   "source": [
    "df_sentiment = pd.read_parquet(data_sent_full)"
   ]
  },
  {
   "cell_type": "code",
   "execution_count": 49,
   "id": "85024ca4",
   "metadata": {},
   "outputs": [],
   "source": [
    "pd.set_option('display.max_colwidth', None)"
   ]
  },
  {
   "cell_type": "code",
   "execution_count": 60,
   "id": "5329f3ff",
   "metadata": {},
   "outputs": [
    {
     "name": "stdout",
     "output_type": "stream",
     "text": [
      "\\begin{tabular}{lr}\n",
      "\\toprule\n",
      "{} &  positive \\\\\n",
      "\\midrule\n",
      "0 &  0.999751 \\\\\n",
      "1 &  0.999747 \\\\\n",
      "2 &  0.999746 \\\\\n",
      "3 &  0.999746 \\\\\n",
      "4 &  0.999744 \\\\\n",
      "5 &  0.999743 \\\\\n",
      "6 &  0.999743 \\\\\n",
      "7 &  0.999743 \\\\\n",
      "8 &  0.999742 \\\\\n",
      "9 &  0.999742 \\\\\n",
      "\\bottomrule\n",
      "\\end{tabular}\n",
      "\n"
     ]
    },
    {
     "name": "stderr",
     "output_type": "stream",
     "text": [
      "FutureWarning: In future versions `DataFrame.to_latex` is expected to utilise the base implementation of `Styler.to_latex` for formatting and rendering. The arguments signature may therefore change. It is recommended instead to use `DataFrame.style.to_latex` which also contains additional functionality. [2282453042.py:2]\n"
     ]
    }
   ],
   "source": [
    "df_sentiment_final = pd.concat([df_sentiment]) \n",
    "print(df_sentiment_final.sort_values(['positive'], ascending=False).reset_index().head(10)[['positive']].to_latex())"
   ]
  },
  {
   "cell_type": "code",
   "execution_count": 20,
   "id": "05b09482",
   "metadata": {},
   "outputs": [],
   "source": [
    "df_sentiment_final.to_parquet(data_sent_full)"
   ]
  },
  {
   "cell_type": "code",
   "execution_count": null,
   "id": "ec33fbb2",
   "metadata": {},
   "outputs": [],
   "source": []
  }
 ],
 "metadata": {
  "kernelspec": {
   "display_name": "Python 3 (ipykernel)",
   "language": "python",
   "name": "python3"
  },
  "language_info": {
   "codemirror_mode": {
    "name": "ipython",
    "version": 3
   },
   "file_extension": ".py",
   "mimetype": "text/x-python",
   "name": "python",
   "nbconvert_exporter": "python",
   "pygments_lexer": "ipython3",
   "version": "3.8.12"
  }
 },
 "nbformat": 4,
 "nbformat_minor": 5
}
