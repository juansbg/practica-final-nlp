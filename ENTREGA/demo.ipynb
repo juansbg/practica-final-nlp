{
 "cells": [
  {
   "cell_type": "markdown",
   "id": "fdb4fb9b",
   "metadata": {},
   "source": [
    "## Os dejo aquí cómo se usa mi librería (mergerML):\n",
    "#### Lo único que tenéis que hacer para que funcione es tener el archivo `mergerml.py` en la misma carpeta que el Dash."
   ]
  },
  {
   "cell_type": "code",
   "execution_count": 1,
   "id": "0ea65979",
   "metadata": {},
   "outputs": [],
   "source": [
    "pdf_que_queremos_procesar = 'DEMO_PDF/BANKIA_2020.pdf' # Este path lo sacais del PDF que metan en el Dash"
   ]
  },
  {
   "cell_type": "markdown",
   "id": "9814a8d4",
   "metadata": {},
   "source": [
    "### Path a los modelos que necesitamos:"
   ]
  },
  {
   "cell_type": "code",
   "execution_count": 2,
   "id": "6932627e",
   "metadata": {},
   "outputs": [],
   "source": [
    "path_word2vec_model   = 'MODELS/modelo_word2vec_100.model'\n",
    "path_clustering_model = 'MODELS/clustering_pipeline.joblib'\n",
    "path_merger_model     = 'MODELS/merger_predict.joblib'"
   ]
  },
  {
   "cell_type": "markdown",
   "id": "ae060424",
   "metadata": {},
   "source": [
    "### Lectura del PDF:"
   ]
  },
  {
   "cell_type": "code",
   "execution_count": 3,
   "id": "e3a22d6d",
   "metadata": {},
   "outputs": [],
   "source": [
    "from mergerml import process_PDFs"
   ]
  },
  {
   "cell_type": "code",
   "execution_count": 4,
   "id": "e005e26d",
   "metadata": {},
   "outputs": [
    {
     "name": "stdout",
     "output_type": "stream",
     "text": [
      "Cronometrando lectura de PDFs...\n",
      "\n",
      "BANKIA_2020.pdf\n",
      "--- Tiempo de lectura (s): 2.1870062351226807\n",
      "Preparando dataframe...\n",
      "Tokenizando frases...\n"
     ]
    },
    {
     "name": "stderr",
     "output_type": "stream",
     "text": [
      "100%|███████████████████████████████████████| 186/186 [00:00<00:00, 4596.90it/s]\n"
     ]
    }
   ],
   "source": [
    "rawdata, tiempo_que_tarda = process_PDFs([pdf_que_queremos_procesar], # Van en una lista, aunque solo haya un PDF\n",
    "                                          esp=False, # Si está en ESPAÑOL (esta opción tenemos que ponerla en el DASH)\n",
    "                                          verbose=2, # Si queremos que nos haga prints por terminal mientras procesa\n",
    "                                          save_path=None # Si queremos guardar los resultados a algun lado\n",
    "                                         )"
   ]
  },
  {
   "cell_type": "code",
   "execution_count": 5,
   "id": "c230aad5",
   "metadata": {},
   "outputs": [
    {
     "data": {
      "text/html": [
       "<div>\n",
       "<style scoped>\n",
       "    .dataframe tbody tr th:only-of-type {\n",
       "        vertical-align: middle;\n",
       "    }\n",
       "\n",
       "    .dataframe tbody tr th {\n",
       "        vertical-align: top;\n",
       "    }\n",
       "\n",
       "    .dataframe thead th {\n",
       "        text-align: right;\n",
       "    }\n",
       "</style>\n",
       "<table border=\"1\" class=\"dataframe\">\n",
       "  <thead>\n",
       "    <tr style=\"text-align: right;\">\n",
       "      <th></th>\n",
       "      <th></th>\n",
       "      <th></th>\n",
       "      <th></th>\n",
       "      <th>sentences</th>\n",
       "    </tr>\n",
       "    <tr>\n",
       "      <th>bank</th>\n",
       "      <th>year</th>\n",
       "      <th>page</th>\n",
       "      <th>sentence</th>\n",
       "      <th></th>\n",
       "    </tr>\n",
       "  </thead>\n",
       "  <tbody>\n",
       "    <tr>\n",
       "      <th rowspan=\"10\" valign=\"top\">BANKIA</th>\n",
       "      <th rowspan=\"10\" valign=\"top\">2020</th>\n",
       "      <th>41</th>\n",
       "      <th>41</th>\n",
       "      <td>range of user queries</td>\n",
       "    </tr>\n",
       "    <tr>\n",
       "      <th>157</th>\n",
       "      <th>31</th>\n",
       "      <td>Tax Practices CBTP which includes</td>\n",
       "    </tr>\n",
       "    <tr>\n",
       "      <th>16</th>\n",
       "      <th>4</th>\n",
       "      <td>since Strategy implemented for setting an int...</td>\n",
       "    </tr>\n",
       "    <tr>\n",
       "      <th>53</th>\n",
       "      <th>4</th>\n",
       "      <td>For Bankia using technology to manage the cus...</td>\n",
       "    </tr>\n",
       "    <tr>\n",
       "      <th>3</th>\n",
       "      <th>3</th>\n",
       "      <td>Banking as a solution to the health crisis</td>\n",
       "    </tr>\n",
       "    <tr>\n",
       "      <th>45</th>\n",
       "      <th>30</th>\n",
       "      <td>DevSecOps processes has made it</td>\n",
       "    </tr>\n",
       "    <tr>\n",
       "      <th>42</th>\n",
       "      <th>57</th>\n",
       "      <td>organisational structure and other</td>\n",
       "    </tr>\n",
       "    <tr>\n",
       "      <th>174</th>\n",
       "      <th>2</th>\n",
       "      <td>During the bank accepted recovery agreements ...</td>\n",
       "    </tr>\n",
       "    <tr>\n",
       "      <th>134</th>\n",
       "      <th>31</th>\n",
       "      <td>annual accounts the distribution of</td>\n",
       "    </tr>\n",
       "    <tr>\n",
       "      <th>154</th>\n",
       "      <th>15</th>\n",
       "      <td>and developing internal regulations</td>\n",
       "    </tr>\n",
       "  </tbody>\n",
       "</table>\n",
       "</div>"
      ],
      "text/plain": [
       "                                                                   sentences\n",
       "bank   year page sentence                                                   \n",
       "BANKIA 2020 41   41                                    range of user queries\n",
       "            157  31                       Tax Practices CBTP which includes \n",
       "            16   4          since Strategy implemented for setting an int...\n",
       "            53   4          For Bankia using technology to manage the cus...\n",
       "            3    3               Banking as a solution to the health crisis \n",
       "            45   30                         DevSecOps processes has made it \n",
       "            42   57                      organisational structure and other \n",
       "            174  2          During the bank accepted recovery agreements ...\n",
       "            134  31                     annual accounts the distribution of \n",
       "            154  15                     and developing internal regulations "
      ]
     },
     "execution_count": 5,
     "metadata": {},
     "output_type": "execute_result"
    }
   ],
   "source": [
    "rawdata.sample(10)"
   ]
  },
  {
   "cell_type": "code",
   "execution_count": 6,
   "id": "72793e0e",
   "metadata": {},
   "outputs": [
    {
     "data": {
      "text/plain": [
       "{'lectura': 2.3141095638275146}"
      ]
     },
     "execution_count": 6,
     "metadata": {},
     "output_type": "execute_result"
    }
   ],
   "source": [
    "tiempo_que_tarda"
   ]
  },
  {
   "cell_type": "markdown",
   "id": "72c67f72",
   "metadata": {},
   "source": [
    "### Análisis de Sentimiento:"
   ]
  },
  {
   "cell_type": "code",
   "execution_count": 5,
   "id": "d3914a89",
   "metadata": {},
   "outputs": [],
   "source": [
    "from mergerml import get_phrase_sentiment"
   ]
  },
  {
   "cell_type": "code",
   "execution_count": 6,
   "id": "945b77d4",
   "metadata": {},
   "outputs": [
    {
     "name": "stdout",
     "output_type": "stream",
     "text": [
      "Cronometrando procesado de sentiment de frases...\n"
     ]
    },
    {
     "name": "stderr",
     "output_type": "stream",
     "text": [
      "100%|█████████████████████████████████████████| 121/121 [00:04<00:00, 25.87it/s]\n",
      "100%|█████████████████████████████████████| 121/121 [00:00<00:00, 158597.12it/s]\n",
      "100%|█████████████████████████████████████| 121/121 [00:00<00:00, 154776.09it/s]\n",
      "100%|█████████████████████████████████████| 121/121 [00:00<00:00, 253122.59it/s]\n"
     ]
    }
   ],
   "source": [
    "data, tiempo_que_tarda_sentiment = get_phrase_sentiment(rawdata.sample(200), # El resultado de la función anterior\n",
    "                                                        min_words=5, # Esto podríamos ponerlo como opción en el Dash\n",
    "                                                        save_sentiment_path=None, # Si queremos guardar los resultados a algun lado\n",
    "                                                       )"
   ]
  },
  {
   "cell_type": "code",
   "execution_count": 9,
   "id": "4de80a60",
   "metadata": {},
   "outputs": [
    {
     "data": {
      "text/html": [
       "<div>\n",
       "<style scoped>\n",
       "    .dataframe tbody tr th:only-of-type {\n",
       "        vertical-align: middle;\n",
       "    }\n",
       "\n",
       "    .dataframe tbody tr th {\n",
       "        vertical-align: top;\n",
       "    }\n",
       "\n",
       "    .dataframe thead th {\n",
       "        text-align: right;\n",
       "    }\n",
       "</style>\n",
       "<table border=\"1\" class=\"dataframe\">\n",
       "  <thead>\n",
       "    <tr style=\"text-align: right;\">\n",
       "      <th></th>\n",
       "      <th></th>\n",
       "      <th></th>\n",
       "      <th></th>\n",
       "      <th>sentences</th>\n",
       "      <th>length</th>\n",
       "      <th>negative</th>\n",
       "      <th>neutral</th>\n",
       "      <th>positive</th>\n",
       "    </tr>\n",
       "    <tr>\n",
       "      <th>bank</th>\n",
       "      <th>year</th>\n",
       "      <th>page</th>\n",
       "      <th>sentence</th>\n",
       "      <th></th>\n",
       "      <th></th>\n",
       "      <th></th>\n",
       "      <th></th>\n",
       "      <th></th>\n",
       "    </tr>\n",
       "  </thead>\n",
       "  <tbody>\n",
       "    <tr>\n",
       "      <th rowspan=\"10\" valign=\"top\">BANKIA</th>\n",
       "      <th rowspan=\"10\" valign=\"top\">2020</th>\n",
       "      <th>117</th>\n",
       "      <th>45</th>\n",
       "      <td>companies segment to allow them to</td>\n",
       "      <td>6</td>\n",
       "      <td>0.000061</td>\n",
       "      <td>0.999883</td>\n",
       "      <td>0.000056</td>\n",
       "    </tr>\n",
       "    <tr>\n",
       "      <th>168</th>\n",
       "      <th>8</th>\n",
       "      <td>RISK MANAGEMENT CREDIT RISK PROFILE MORTGAGE B...</td>\n",
       "      <td>23</td>\n",
       "      <td>0.000069</td>\n",
       "      <td>0.999883</td>\n",
       "      <td>0.000048</td>\n",
       "    </tr>\n",
       "    <tr>\n",
       "      <th>143</th>\n",
       "      <th>2</th>\n",
       "      <td>Directors remuneration comprises a fixed and ...</td>\n",
       "      <td>9</td>\n",
       "      <td>0.000079</td>\n",
       "      <td>0.999882</td>\n",
       "      <td>0.000039</td>\n",
       "    </tr>\n",
       "    <tr>\n",
       "      <th>122</th>\n",
       "      <th>27</th>\n",
       "      <td>million euros at yearend thanks to the</td>\n",
       "      <td>7</td>\n",
       "      <td>0.000105</td>\n",
       "      <td>0.999669</td>\n",
       "      <td>0.000226</td>\n",
       "    </tr>\n",
       "    <tr>\n",
       "      <th>169</th>\n",
       "      <th>138</th>\n",
       "      <td>with the financing as well as clear</td>\n",
       "      <td>7</td>\n",
       "      <td>0.000059</td>\n",
       "      <td>0.999889</td>\n",
       "      <td>0.000051</td>\n",
       "    </tr>\n",
       "    <tr>\n",
       "      <th>117</th>\n",
       "      <th>93</th>\n",
       "      <td>turnover as a result groups of</td>\n",
       "      <td>6</td>\n",
       "      <td>0.000053</td>\n",
       "      <td>0.999834</td>\n",
       "      <td>0.000114</td>\n",
       "    </tr>\n",
       "    <tr>\n",
       "      <th rowspan=\"2\" valign=\"top\">48</th>\n",
       "      <th>28</th>\n",
       "      <td>facilitated more than billion euros</td>\n",
       "      <td>5</td>\n",
       "      <td>0.000057</td>\n",
       "      <td>0.999875</td>\n",
       "      <td>0.000069</td>\n",
       "    </tr>\n",
       "    <tr>\n",
       "      <th>54</th>\n",
       "      <td>support measures such as the payment</td>\n",
       "      <td>6</td>\n",
       "      <td>0.000061</td>\n",
       "      <td>0.999892</td>\n",
       "      <td>0.000047</td>\n",
       "    </tr>\n",
       "    <tr>\n",
       "      <th>162</th>\n",
       "      <th>72</th>\n",
       "      <td>standard PCI DSS is high</td>\n",
       "      <td>5</td>\n",
       "      <td>0.730953</td>\n",
       "      <td>0.264747</td>\n",
       "      <td>0.004300</td>\n",
       "    </tr>\n",
       "    <tr>\n",
       "      <th>153</th>\n",
       "      <th>4</th>\n",
       "      <td>These risks are subject to general and specif...</td>\n",
       "      <td>12</td>\n",
       "      <td>0.000073</td>\n",
       "      <td>0.999886</td>\n",
       "      <td>0.000042</td>\n",
       "    </tr>\n",
       "  </tbody>\n",
       "</table>\n",
       "</div>"
      ],
      "text/plain": [
       "                                                                   sentences  \\\n",
       "bank   year page sentence                                                      \n",
       "BANKIA 2020 117  45                      companies segment to allow them to    \n",
       "            168  8         RISK MANAGEMENT CREDIT RISK PROFILE MORTGAGE B...   \n",
       "            143  2          Directors remuneration comprises a fixed and ...   \n",
       "            122  27                  million euros at yearend thanks to the    \n",
       "            169  138                    with the financing as well as clear    \n",
       "            117  93                          turnover as a result groups of    \n",
       "            48   28                     facilitated more than billion euros    \n",
       "                 54                    support measures such as the payment    \n",
       "            162  72                                 standard PCI DSS is high   \n",
       "            153  4          These risks are subject to general and specif...   \n",
       "\n",
       "                           length  negative   neutral  positive  \n",
       "bank   year page sentence                                        \n",
       "BANKIA 2020 117  45             6  0.000061  0.999883  0.000056  \n",
       "            168  8             23  0.000069  0.999883  0.000048  \n",
       "            143  2              9  0.000079  0.999882  0.000039  \n",
       "            122  27             7  0.000105  0.999669  0.000226  \n",
       "            169  138            7  0.000059  0.999889  0.000051  \n",
       "            117  93             6  0.000053  0.999834  0.000114  \n",
       "            48   28             5  0.000057  0.999875  0.000069  \n",
       "                 54             6  0.000061  0.999892  0.000047  \n",
       "            162  72             5  0.730953  0.264747  0.004300  \n",
       "            153  4             12  0.000073  0.999886  0.000042  "
      ]
     },
     "execution_count": 9,
     "metadata": {},
     "output_type": "execute_result"
    }
   ],
   "source": [
    "data.sample(10)"
   ]
  },
  {
   "cell_type": "code",
   "execution_count": 10,
   "id": "71c83754",
   "metadata": {},
   "outputs": [
    {
     "data": {
      "text/plain": [
       "{'sentiment': 99.84928917884827}"
      ]
     },
     "execution_count": 10,
     "metadata": {},
     "output_type": "execute_result"
    }
   ],
   "source": [
    "tiempo_que_tarda_sentiment"
   ]
  },
  {
   "cell_type": "markdown",
   "id": "81453973",
   "metadata": {},
   "source": [
    "### Predicción:"
   ]
  },
  {
   "cell_type": "code",
   "execution_count": 7,
   "id": "d984df8a",
   "metadata": {},
   "outputs": [],
   "source": [
    "from mergerml import predict_merger"
   ]
  },
  {
   "cell_type": "code",
   "execution_count": 8,
   "id": "84d375e8",
   "metadata": {},
   "outputs": [
    {
     "name": "stdout",
     "output_type": "stream",
     "text": [
      "Tokenizing...\n"
     ]
    },
    {
     "name": "stderr",
     "output_type": "stream",
     "text": [
      "100%|█████████████████████████████████████| 121/121 [00:00<00:00, 122973.29it/s]\n"
     ]
    },
    {
     "name": "stdout",
     "output_type": "stream",
     "text": [
      "Aplicando Word2Vec...\n"
     ]
    },
    {
     "name": "stderr",
     "output_type": "stream",
     "text": [
      "100%|███████████████████████████████████████| 121/121 [00:00<00:00, 6532.43it/s]"
     ]
    },
    {
     "name": "stdout",
     "output_type": "stream",
     "text": [
      "Aplicando Clustering...\n"
     ]
    },
    {
     "name": "stderr",
     "output_type": "stream",
     "text": [
      "\n",
      "UserWarning: X does not have valid feature names, but StandardScaler was fitted with feature names [base.py:450]\n"
     ]
    },
    {
     "name": "stdout",
     "output_type": "stream",
     "text": [
      "Preparando Dataset...\n",
      "Cargando Modelo...\n",
      "Haciendo Predicción...\n"
     ]
    }
   ],
   "source": [
    "probabilidad_adquisicion, tiempo_que_tarda_predict, sentimiento_de_secciones = predict_merger(data, \n",
    "                                                                                              path_word2vec_model,  \n",
    "                                                                                              path_clustering_model,\n",
    "                                                                                              path_merger_model,    \n",
    "                                                                                              timeit=True\n",
    "                                                                                             )"
   ]
  },
  {
   "cell_type": "code",
   "execution_count": 13,
   "id": "4880e47b",
   "metadata": {},
   "outputs": [
    {
     "data": {
      "text/plain": [
       "array([0.28264401])"
      ]
     },
     "execution_count": 13,
     "metadata": {},
     "output_type": "execute_result"
    }
   ],
   "source": [
    "probabilidad_adquisicion"
   ]
  },
  {
   "cell_type": "code",
   "execution_count": 14,
   "id": "d2b9f580",
   "metadata": {},
   "outputs": [
    {
     "data": {
      "text/plain": [
       "{'prediction': 0.7640392780303955}"
      ]
     },
     "execution_count": 14,
     "metadata": {},
     "output_type": "execute_result"
    }
   ],
   "source": [
    "tiempo_que_tarda_predict"
   ]
  },
  {
   "cell_type": "code",
   "execution_count": 9,
   "id": "c423d4fa",
   "metadata": {},
   "outputs": [
    {
     "data": {
      "text/html": [
       "<div>\n",
       "<style scoped>\n",
       "    .dataframe tbody tr th:only-of-type {\n",
       "        vertical-align: middle;\n",
       "    }\n",
       "\n",
       "    .dataframe tbody tr th {\n",
       "        vertical-align: top;\n",
       "    }\n",
       "\n",
       "    .dataframe thead th {\n",
       "        text-align: right;\n",
       "    }\n",
       "</style>\n",
       "<table border=\"1\" class=\"dataframe\">\n",
       "  <thead>\n",
       "    <tr style=\"text-align: right;\">\n",
       "      <th></th>\n",
       "      <th></th>\n",
       "      <th></th>\n",
       "      <th>neg</th>\n",
       "      <th>pos</th>\n",
       "    </tr>\n",
       "    <tr>\n",
       "      <th>bank</th>\n",
       "      <th>year</th>\n",
       "      <th></th>\n",
       "      <th></th>\n",
       "      <th></th>\n",
       "    </tr>\n",
       "  </thead>\n",
       "  <tbody>\n",
       "    <tr>\n",
       "      <th rowspan=\"5\" valign=\"top\">BANKIA</th>\n",
       "      <th rowspan=\"5\" valign=\"top\">2020</th>\n",
       "      <th>cluster_0</th>\n",
       "      <td>0.000082</td>\n",
       "      <td>0.000071</td>\n",
       "    </tr>\n",
       "    <tr>\n",
       "      <th>cluster_1</th>\n",
       "      <td>0.000113</td>\n",
       "      <td>0.199858</td>\n",
       "    </tr>\n",
       "    <tr>\n",
       "      <th>cluster_2</th>\n",
       "      <td>0.000083</td>\n",
       "      <td>0.069157</td>\n",
       "    </tr>\n",
       "    <tr>\n",
       "      <th>cluster_3</th>\n",
       "      <td>0.037619</td>\n",
       "      <td>0.094907</td>\n",
       "    </tr>\n",
       "    <tr>\n",
       "      <th>cluster_4</th>\n",
       "      <td>0.040081</td>\n",
       "      <td>0.151629</td>\n",
       "    </tr>\n",
       "  </tbody>\n",
       "</table>\n",
       "</div>"
      ],
      "text/plain": [
       "                            neg       pos\n",
       "bank   year                              \n",
       "BANKIA 2020 cluster_0  0.000082  0.000071\n",
       "            cluster_1  0.000113  0.199858\n",
       "            cluster_2  0.000083  0.069157\n",
       "            cluster_3  0.037619  0.094907\n",
       "            cluster_4  0.040081  0.151629"
      ]
     },
     "execution_count": 9,
     "metadata": {},
     "output_type": "execute_result"
    }
   ],
   "source": [
    "sentimiento_de_secciones"
   ]
  },
  {
   "cell_type": "code",
   "execution_count": 12,
   "id": "7354fa46",
   "metadata": {},
   "outputs": [
    {
     "data": {
      "text/plain": [
       "[{'clusters': 'cluster_0',\n",
       "  'neg': 8.215275011025369e-05,\n",
       "  'pos': 7.050571730360389e-05},\n",
       " {'clusters': 'cluster_1',\n",
       "  'neg': 0.00011338798503857106,\n",
       "  'pos': 0.19985784590244293},\n",
       " {'clusters': 'cluster_2',\n",
       "  'neg': 8.280184556497261e-05,\n",
       "  'pos': 0.06915676593780518},\n",
       " {'clusters': 'cluster_3',\n",
       "  'neg': 0.03761924430727959,\n",
       "  'pos': 0.09490697830915451},\n",
       " {'clusters': 'cluster_4',\n",
       "  'neg': 0.040081173181533813,\n",
       "  'pos': 0.15162859857082367}]"
      ]
     },
     "execution_count": 12,
     "metadata": {},
     "output_type": "execute_result"
    }
   ],
   "source": [
    "sentimiento_de_secciones.reset_index().rename(columns={'level_2':'clusters'})[['clusters','neg','pos']].to_dict('records')"
   ]
  },
  {
   "cell_type": "code",
   "execution_count": 25,
   "id": "e25690fe",
   "metadata": {},
   "outputs": [
    {
     "name": "stdout",
     "output_type": "stream",
     "text": [
      "\\begin{tabular}{lllrr}\n",
      "\\toprule\n",
      "       &      &           &       neg &       pos \\\\\n",
      "bank & year & {} &           &           \\\\\n",
      "\\midrule\n",
      "BANKIA & 2020 & cluster\\_0 &  0.000069 &  0.000053 \\\\\n",
      "       &      & cluster\\_1 &  0.029282 &  0.089355 \\\\\n",
      "       &      & cluster\\_2 &  0.004674 &  0.020489 \\\\\n",
      "       &      & cluster\\_3 &  0.026072 &  0.057648 \\\\\n",
      "       &      & cluster\\_4 &  0.020933 &  0.114990 \\\\\n",
      "\\bottomrule\n",
      "\\end{tabular}\n",
      "\n"
     ]
    },
    {
     "name": "stderr",
     "output_type": "stream",
     "text": [
      "FutureWarning: In future versions `DataFrame.to_latex` is expected to utilise the base implementation of `Styler.to_latex` for formatting and rendering. The arguments signature may therefore change. It is recommended instead to use `DataFrame.style.to_latex` which also contains additional functionality. [695333489.py:1]\n"
     ]
    }
   ],
   "source": [
    "print(sentimiento_de_secciones.to_latex())"
   ]
  },
  {
   "cell_type": "code",
   "execution_count": null,
   "id": "9fdae7ab",
   "metadata": {},
   "outputs": [],
   "source": []
  }
 ],
 "metadata": {
  "kernelspec": {
   "display_name": "Python 3 (ipykernel)",
   "language": "python",
   "name": "python3"
  },
  "language_info": {
   "codemirror_mode": {
    "name": "ipython",
    "version": 3
   },
   "file_extension": ".py",
   "mimetype": "text/x-python",
   "name": "python",
   "nbconvert_exporter": "python",
   "pygments_lexer": "ipython3",
   "version": "3.8.12"
  }
 },
 "nbformat": 4,
 "nbformat_minor": 5
}
